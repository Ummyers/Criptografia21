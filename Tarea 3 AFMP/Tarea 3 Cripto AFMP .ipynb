{
 "cells": [
  {
   "cell_type": "markdown",
   "metadata": {},
   "source": [
    "# Ejercicio 1\n"
   ]
  },
  {
   "cell_type": "markdown",
   "metadata": {},
   "source": [
    "**a)** Tomando la ecuación de la curva eliptica para verificar que el punto $(6,2)$ esta en la curva eliptica hay que ver que se cumple la igualdad $y^2 = x^3 + 2x + 7 \\text{ mod } 11$ entonces\n",
    "\n",
    "$4 = 235 \\text{ mod } 11$  "
   ]
  },
  {
   "cell_type": "code",
   "execution_count": 131,
   "metadata": {},
   "outputs": [
    {
     "data": {
      "text/plain": [
       "4"
      ]
     },
     "execution_count": 131,
     "metadata": {},
     "output_type": "execute_result"
    }
   ],
   "source": [
    "235%11\n"
   ]
  },
  {
   "cell_type": "markdown",
   "metadata": {},
   "source": [
    "En efecto, el punto $(6,2)$ esta en $ y^2 = x^3 + 2x + 7$ en $Z_{11}$ \n",
    "\n",
    "Visto de otra forma tenemos que $y^2 = 4 \\Rightarrow y = 2 \\text{ y } y = -2$ que en modulo 11 equivale a $-2 \\text{ mod }11 = 9$  "
   ]
  },
  {
   "cell_type": "markdown",
   "metadata": {},
   "source": [
    "Usando *Wolfram* graficamos la curva eliptica "
   ]
  },
  {
   "cell_type": "markdown",
   "metadata": {},
   "source": [
    "$ \\text{plot }y^2 = x^3 + 2x +7 \\text{ over GF }(11) $\n"
   ]
  },
  {
   "cell_type": "markdown",
   "metadata": {},
   "source": [
    "![title](Grafica1.png)"
   ]
  },
  {
   "cell_type": "markdown",
   "metadata": {},
   "source": [
    "**b)**\n"
   ]
  },
  {
   "cell_type": "code",
   "execution_count": 132,
   "metadata": {},
   "outputs": [],
   "source": [
    "def inverso(a, m):\n",
    "    \"\"\"\n",
    "    Función que encuentra el inverso multiplicativo\n",
    "    para una curva eliptica.\n",
    "    \n",
    "    Parametros:\n",
    "    a -- El número al que buscar inverso.\n",
    "    m -- El modulo o campo sobre el que se esta trabajando.\n",
    "    \"\"\"\n",
    "    if m == 0:\n",
    "        return 1, 0, a\n",
    "    q, r = divmod(a, m)\n",
    "    x, y, g = inverso(m, r)\n",
    "    return y, x-q*y, g\n"
   ]
  },
  {
   "cell_type": "code",
   "execution_count": 133,
   "metadata": {},
   "outputs": [],
   "source": [
    "def suma_e(p, q, a, m):\n",
    "    \"\"\"\n",
    "    Función que realiza la suma de dos puntos\n",
    "    en una curva eliptica sobre un campo finito\n",
    "    Parametros:\n",
    "    p -- Uno de los dos puntos a sumar\n",
    "    q -- El otro punto\n",
    "    a -- El coeficiente a de la ecuación de la curva\n",
    "    m -- El modulo (campo) sobre el que se esta trabando\n",
    "    \"\"\"\n",
    "    if p[0]==q[0] and p[1]==q[1]:\n",
    "        #print(p[0],p[1],q[0],q[1])\n",
    "        inve,x,y = inverso(2*p[1],m)\n",
    "        lamb = ((3*(p[0])**2) + a)*inve\n",
    "        x3 = (lamb**(2) - (2*p[0])) % m\n",
    "        y3 = (- p[1] + (lamb*(p[0]-x3))) % m\n",
    "        return x3, y3 \n",
    "    else:\n",
    "        inver = 0\n",
    "        inver,x,y = inverso(q[0]-p[0],m)\n",
    "        lamb = ((q[1]-p[1])*(inver)) % m\n",
    "        x3 = (lamb**(2) - p[0] - q[0]) % m\n",
    "        y3 = ((lamb*(p[0]-x3)) - p[1]) % m\n",
    "        return x3, y3"
   ]
  },
  {
   "cell_type": "code",
   "execution_count": 134,
   "metadata": {},
   "outputs": [
    {
     "name": "stdout",
     "output_type": "stream",
     "text": [
      "2P\n"
     ]
    },
    {
     "data": {
      "text/plain": [
       "(10, 9)"
      ]
     },
     "execution_count": 134,
     "metadata": {},
     "output_type": "execute_result"
    }
   ],
   "source": [
    "print(\"2P\") #10,9\n",
    "suma_e((6,2),(6,2),2,11)"
   ]
  },
  {
   "cell_type": "code",
   "execution_count": 135,
   "metadata": {},
   "outputs": [
    {
     "name": "stdout",
     "output_type": "stream",
     "text": [
      "3P\n"
     ]
    },
    {
     "data": {
      "text/plain": [
       "(7, 10)"
      ]
     },
     "execution_count": 135,
     "metadata": {},
     "output_type": "execute_result"
    }
   ],
   "source": [
    "print(\"3P\") #7,10\n",
    "suma_e((6,2),(10,9),2,11)"
   ]
  },
  {
   "cell_type": "code",
   "execution_count": 136,
   "metadata": {},
   "outputs": [
    {
     "name": "stdout",
     "output_type": "stream",
     "text": [
      "4P\n"
     ]
    },
    {
     "data": {
      "text/plain": [
       "(7, 1)"
      ]
     },
     "execution_count": 136,
     "metadata": {},
     "output_type": "execute_result"
    }
   ],
   "source": [
    "print(\"4P\")#7,1\n",
    "suma_e((6,2),(7,10),2,11)"
   ]
  },
  {
   "cell_type": "code",
   "execution_count": 137,
   "metadata": {},
   "outputs": [
    {
     "name": "stdout",
     "output_type": "stream",
     "text": [
      "5P\n"
     ]
    },
    {
     "data": {
      "text/plain": [
       "(9, 2)"
      ]
     },
     "execution_count": 137,
     "metadata": {},
     "output_type": "execute_result"
    }
   ],
   "source": [
    "print(\"5P\")#9,2\n",
    "suma_e((6,2),(10,4),2,11)"
   ]
  },
  {
   "cell_type": "code",
   "execution_count": 138,
   "metadata": {},
   "outputs": [
    {
     "name": "stdout",
     "output_type": "stream",
     "text": [
      "6P\n"
     ]
    },
    {
     "data": {
      "text/plain": [
       "(6, 9)"
      ]
     },
     "execution_count": 138,
     "metadata": {},
     "output_type": "execute_result"
    }
   ],
   "source": [
    "print(\"6P\")#6,9\n",
    "suma_e((6,2),(8,8),2,11)"
   ]
  },
  {
   "cell_type": "markdown",
   "metadata": {},
   "source": [
    "Siendo $(6,9)$ el inverso de $(6,2)$ Entonces $P$ es de orden $7$"
   ]
  },
  {
   "cell_type": "markdown",
   "metadata": {},
   "source": [
    "**c)** Teniendo que el orden de  $p=(6,2) \\text{ es } N=7$ Usando el Teorema de Hesse tenemos que el odren del conjunto de punto de la Curva eliptica (CE) del ejercicio 1 esta dado por:"
   ]
  },
  {
   "cell_type": "markdown",
   "metadata": {},
   "source": [
    "Siendo $q=11$ "
   ]
  },
  {
   "cell_type": "markdown",
   "metadata": {},
   "source": [
    "Por la observacion de la pagina 37 del libro \"Criptografía con curvas elípticas\" de Llorenc uguent Rotger, tenemos que el intervalo esta entre $$1+q-2\\sqrt{q} \\leq N \\leq 1+q+2\\sqrt{q}$$"
   ]
  },
  {
   "cell_type": "markdown",
   "metadata": {},
   "source": [
    "Sustituyendo obtenemos: \n",
    "$$1+11-2\\sqrt{11} \\leq N \\leq 1+11+2\\sqrt{11}$$\n",
    "\n",
    "$$ 12-2\\sqrt{11} \\leq N \\leq 12 +2\\sqrt{11}$$ y $12 -2\\sqrt{11} \\approxeq 5.36 \\text{ y } 12 +2\\sqrt{11} \\approxeq 18.6$\n",
    "\n",
    "entonces el orden del conjunto de puntos que satisfacen va entre $5 \\leq N \\leq 18$ además el orden de $E(11)$ debe ser un multiplo del orden del punto entonces $N$ es 7 o multiplo de 7, pero al estar en $Z_11$ no se puede tomar otro.  \n",
    "Pensamos al principio que el orden podría ser 6. Estaría padre que nos confirmaras si esto estuvo bien. Gracias :3"
   ]
  },
  {
   "cell_type": "markdown",
   "metadata": {},
   "source": [
    "# Ejercicio 2 "
   ]
  },
  {
   "cell_type": "markdown",
   "metadata": {},
   "source": [
    "**a)** Sea la curva eíptica *E* dada por $y^2 = x^3 + x + 8$ en $Z_{17}$\n",
    "\n",
    "Muestre que $\\alpha = (0,5)$ es una raíz primitiva. Para ver que es una raíz primitiva, debe poderse generar todos los puntos de la curva eliptica. "
   ]
  },
  {
   "cell_type": "code",
   "execution_count": 139,
   "metadata": {},
   "outputs": [],
   "source": [
    "\"\"\"\n",
    "Función que calcula los residuos cuadraticos \n",
    "de Z modulo m\n",
    "m -- el modulo en el que se trabaja\n",
    "\"\"\"\n",
    "def Cal_rc(m):\n",
    "    l = []\n",
    "    for i in range(0,m):\n",
    "        ind = 0\n",
    "        if ((i**((m-1)/2)) % m) == 1:\n",
    "            l.append(i)\n",
    "    return l"
   ]
  },
  {
   "cell_type": "code",
   "execution_count": 140,
   "metadata": {},
   "outputs": [
    {
     "name": "stdout",
     "output_type": "stream",
     "text": [
      "[1, 2, 4, 8, 9, 13, 15, 16]\n"
     ]
    }
   ],
   "source": [
    "print(Cal_rc(17))"
   ]
  },
  {
   "cell_type": "markdown",
   "metadata": {},
   "source": [
    "Calculamos todas las raices de $Z_{17}$"
   ]
  },
  {
   "cell_type": "code",
   "execution_count": 141,
   "metadata": {},
   "outputs": [],
   "source": [
    "#función ejercicio 2\n",
    "def eval_we(x):\n",
    "    z = (x**3 + x + 8) % 17\n",
    "    return z "
   ]
  },
  {
   "cell_type": "code",
   "execution_count": 142,
   "metadata": {},
   "outputs": [],
   "source": [
    "\"\"\"\n",
    "Función que calcula todos los puntos de una Curva Eliptica\n",
    "si se da el caso que m es congruente con 3 mod 4\n",
    "\"\"\"\n",
    "def todos_puntos(m):\n",
    "    puntos = [] #Lista donde se guardan los puntos\n",
    "    l = Cal_rc(m)\n",
    "    #print(l)\n",
    "    for i in range(0,m):\n",
    "        r = eval_we(i);\n",
    "        #print(\"punto:\",i,\"evalua\",r)\n",
    "        if r in l:\n",
    "            r1 = busSQRT(r,m)\n",
    "            r2 = (-r1) + m\n",
    "            puntos.append((i,r1))\n",
    "            puntos.append((i,r2))\n",
    "    return puntos"
   ]
  },
  {
   "cell_type": "code",
   "execution_count": 143,
   "metadata": {},
   "outputs": [],
   "source": [
    "\"\"\"\n",
    "Función que calcula la cardinalidad de puntos de una Curva Eliptica\n",
    "Sin contar el punto infinito\n",
    "Para ejercicio 2\n",
    "m --- el modulo \n",
    "\"\"\"\n",
    "def todos_puntosC(m):\n",
    "    num = 0\n",
    "    l = Cal_rc(m)\n",
    "    for i in range(0,m):\n",
    "        r = eval_we(i);\n",
    "        if r in l:\n",
    "            num = num + 2\n",
    "    return num\n",
    "#Se le suma el punto al infinito al resultado"
   ]
  },
  {
   "cell_type": "code",
   "execution_count": 144,
   "metadata": {},
   "outputs": [],
   "source": [
    "\"\"\"\n",
    "Función que verifica si un punto es generador en \n",
    "una curva eliptica\n",
    "\"\"\"\n",
    "def generador(m,a,p):\n",
    "    tp = []\n",
    "    card = todos_puntosC(m)\n",
    "    tp.append(p) #Se agrega el punto de inicio\n",
    "    #print(card)\n",
    "    for i in range(1,m*2):\n",
    "        p = sumaK((0,5),1,17,i)\n",
    "        if not(p in tp):\n",
    "            tp.append(p)\n",
    "    #Si el tam de la lista de todos los puntos generados es igual a la cardinalidad calculada entonces es generador\n",
    "    if card == len(tp):\n",
    "        return True #Regresa True si el punto p es generador\n",
    "    return False #Regresa False si el punto p no es generador "
   ]
  },
  {
   "cell_type": "markdown",
   "metadata": {},
   "source": [
    "Ocupare la función generador para verificar que (0,5) genera todos los puntos de la CE\n"
   ]
  },
  {
   "cell_type": "code",
   "execution_count": 145,
   "metadata": {},
   "outputs": [
    {
     "data": {
      "text/plain": [
       "True"
      ]
     },
     "execution_count": 145,
     "metadata": {},
     "output_type": "execute_result"
    }
   ],
   "source": [
    "generador(17,1,(0,5))"
   ]
  },
  {
   "cell_type": "markdown",
   "metadata": {},
   "source": [
    "Entonces concluimos que $(0,5)$ es generador de la curva eliptica dada."
   ]
  },
  {
   "cell_type": "markdown",
   "metadata": {},
   "source": [
    "**b)** Alicia desea enviar el siguiente mensaje en Gammal elíptico $c =((5,6),(6,3))$ con párametros públicos $\\alpha = (0,5) \\text{ y } \\beta = (4,5)$ donde $\\beta = s\\alpha$ y $s$ es la llave privada. Encontrar $s$ y descifrar el mensaje. "
   ]
  },
  {
   "cell_type": "markdown",
   "metadata": {},
   "source": [
    "Sea la curva eíptica *E* dada por $y^2 = x^3 + x + 8$ en $Z_{17}$"
   ]
  },
  {
   "cell_type": "markdown",
   "metadata": {},
   "source": [
    "Como ya calculamos que $N = 25$ (24 que se obtuvo en la función más el punto infinito) usando el Algoritmo **Baby Step, Giant Step** obtenemos que $\\sqrt{N} = \\sqrt{25} = 5$ entonces $m=5$\n",
    "\n",
    "$P = \\alpha = (0,5)$ y $Q = \\beta = (4,5)$"
   ]
  },
  {
   "cell_type": "code",
   "execution_count": 146,
   "metadata": {},
   "outputs": [],
   "source": [
    "\"\"\"\n",
    "Función que guarda en una lista los puntos de tipo\n",
    "iP \n",
    "m --- modulo\n",
    "a --- coeficiente a de la ecuación de la CE\n",
    "p --- punto\n",
    "lim --- Es la raíz de N, que es el orden de la CE. \n",
    "\"\"\"\n",
    "def BabyStep(m,a,p,lim):\n",
    "    tp = []\n",
    "    card = todos_puntosC(m)\n",
    "    tp.append(p) #Se agrega el punto de inicio\n",
    "    #print(card)\n",
    "    for i in range(1,lim):\n",
    "        p = sumaK(p,a,m,i)\n",
    "        if not(p in tp):\n",
    "            tp.append(p)\n",
    "    return tp"
   ]
  },
  {
   "cell_type": "code",
   "execution_count": 147,
   "metadata": {},
   "outputs": [
    {
     "data": {
      "text/plain": [
       "[(0, 5), (8, 1), (10, 10), (2, 1), (8, 16)]"
      ]
     },
     "execution_count": 147,
     "metadata": {},
     "output_type": "execute_result"
    }
   ],
   "source": [
    "BabyStep(17,1,(0,5),5)"
   ]
  },
  {
   "cell_type": "markdown",
   "metadata": {},
   "source": [
    "$P = (0,5)$ y $Q = (4,5)$"
   ]
  },
  {
   "cell_type": "markdown",
   "metadata": {},
   "source": [
    "Ahora calculamos $Q -jmP$ donde $j$ va en el intervalo $[0,m-1] = [0,4]$ y cuando coincida con un punto de la lista sabremos el valor de $j$ a considerar. \n",
    "\n",
    "$$j=0 \\rightarrow Q-0 = Q = (4,5)$$\n",
    "No coincide con ningun punto de la lista generada por BabyStep \n",
    "$$j=1 \\rightarrow Q-5P = Q -5(0,5)$$"
   ]
  },
  {
   "cell_type": "code",
   "execution_count": 148,
   "metadata": {},
   "outputs": [
    {
     "data": {
      "text/plain": [
       "(3, 2)"
      ]
     },
     "execution_count": 148,
     "metadata": {},
     "output_type": "execute_result"
    }
   ],
   "source": [
    "sumaK((0,5),1,17,5)"
   ]
  },
  {
   "cell_type": "markdown",
   "metadata": {},
   "source": [
    "El inverso de $(3,2)$ es $(3,-2) = (3,15)$ por lo cual efectuamos la suma $(4,5) + (3,15)$ "
   ]
  },
  {
   "cell_type": "code",
   "execution_count": 149,
   "metadata": {},
   "outputs": [
    {
     "data": {
      "text/plain": [
       "(8, 1)"
      ]
     },
     "execution_count": 149,
     "metadata": {},
     "output_type": "execute_result"
    }
   ],
   "source": [
    "suma_e((4,5),(3,15), 1, 17)"
   ]
  },
  {
   "cell_type": "markdown",
   "metadata": {},
   "source": [
    "Con lo cual tenemos que coincide con el elemento $2$ de la lista, por lo tanto $j=1$ y $i=2$"
   ]
  },
  {
   "cell_type": "markdown",
   "metadata": {},
   "source": [
    "$(4,5) = s(0,5)$\n",
    "\n",
    "De la referencia obtenemos que $s \\equiv i +jm \\text{ mod N }$\n",
    "entonces $s \\equiv 2 +(2*5) \\text{ mod } 25$\n",
    "\n",
    "Expresado tambien como $(4,5) = (2 + 2*5)P = 12P$\n",
    "\n",
    "Entonces la clave privada es $12$\n",
    "\n",
    "Tenemos que $c = ((5,6),(6,3))$\n",
    "Para descifrar el mensaje tenemos entonces que:\n",
    "\n",
    "$x = (6,3) - 12(5,6)$"
   ]
  },
  {
   "cell_type": "code",
   "execution_count": 150,
   "metadata": {},
   "outputs": [
    {
     "data": {
      "text/plain": [
       "(7, 1)"
      ]
     },
     "execution_count": 150,
     "metadata": {},
     "output_type": "execute_result"
    }
   ],
   "source": [
    "sumaK((5,6),1,17,12)"
   ]
  },
  {
   "cell_type": "markdown",
   "metadata": {},
   "source": [
    "Calculando el inverso para efectuar la suma, $(7,1) = (7,-1) = (7,16)$ (Aunque no es necesario el metodo *suma_e* funciona de todas formas con el signo negativo)\n",
    "\n",
    "$x = (6,3) + (7,16)$"
   ]
  },
  {
   "cell_type": "code",
   "execution_count": 151,
   "metadata": {},
   "outputs": [
    {
     "data": {
      "text/plain": [
       "(3, 2)"
      ]
     },
     "execution_count": 151,
     "metadata": {},
     "output_type": "execute_result"
    }
   ],
   "source": [
    "suma_e((6,3),(7,16), 1, 17)"
   ]
  },
  {
   "cell_type": "markdown",
   "metadata": {},
   "source": [
    "El mensaje descifrado es: $(3,2)$"
   ]
  },
  {
   "cell_type": "markdown",
   "metadata": {},
   "source": [
    "# Ejercicio 3"
   ]
  },
  {
   "cell_type": "markdown",
   "metadata": {},
   "source": [
    "**a)** Calcula $Q = mp$ cuando $p=(8,21)$ y $Z_{31}$ y $m = 8$ además tenemos que $y^2 + 30x^3 = x + 14$ entonces el coeficiente es $a=-30\\text{ mod }31 = 1$"
   ]
  },
  {
   "cell_type": "markdown",
   "metadata": {},
   "source": [
    "Para ello se creo la siguiente función, donde $p=(8,21), a = 1, m = 31, k = 8$"
   ]
  },
  {
   "cell_type": "code",
   "execution_count": 152,
   "metadata": {},
   "outputs": [],
   "source": [
    "def sumaK(p,a,m,k):\n",
    "    \"\"\"\n",
    "    Función que realiza la suma de dos puntos k veces\n",
    "    en una curva eliptica sobre un campo finito\n",
    "    Parametros:\n",
    "    p -- Uno de los dos puntos a sumar\n",
    "    q -- El otro punto\n",
    "    a -- El coeficiente a de la ecuación de la curva\n",
    "    m -- El modulo (campo) sobre el que se esta trabando\n",
    "    k -- El número de veces que hay que sumar el punto consigo mismo\n",
    "    \"\"\"\n",
    "    pk = suma_e(p,p,a,m)\n",
    "    for i in range (1,k-1):\n",
    "        pk = suma_e(p,pk,a,m)\n",
    "    return pk \n",
    "            \n",
    "    "
   ]
  },
  {
   "cell_type": "code",
   "execution_count": 153,
   "metadata": {},
   "outputs": [
    {
     "data": {
      "text/plain": [
       "(1, 4)"
      ]
     },
     "execution_count": 153,
     "metadata": {},
     "output_type": "execute_result"
    }
   ],
   "source": [
    "sumaK((8,21),1,31,8)"
   ]
  },
  {
   "cell_type": "markdown",
   "metadata": {},
   "source": [
    "Entonces $Q = mp = (1,4)$"
   ]
  },
  {
   "cell_type": "markdown",
   "metadata": {},
   "source": [
    "**b)** Descifrar el mensaje de la tarea"
   ]
  },
  {
   "cell_type": "markdown",
   "metadata": {},
   "source": [
    "Punto ((9,1),2) para descomprimir tomamos \n",
    "$$z = x^3 + x + 14$$\n",
    "x = 9 y sustituimos \n",
    "$$ z = (9)^3 + (9) + 14 $$"
   ]
  },
  {
   "cell_type": "code",
   "execution_count": 154,
   "metadata": {},
   "outputs": [],
   "source": [
    "def evalua(x):\n",
    "    z = (x**3 + x + 14) % 31\n",
    "    return z "
   ]
  },
  {
   "cell_type": "code",
   "execution_count": 155,
   "metadata": {},
   "outputs": [
    {
     "data": {
      "text/plain": [
       "8"
      ]
     },
     "execution_count": 155,
     "metadata": {},
     "output_type": "execute_result"
    }
   ],
   "source": [
    "evalua(9)"
   ]
  },
  {
   "cell_type": "code",
   "execution_count": 156,
   "metadata": {},
   "outputs": [],
   "source": [
    "def busSQRT(x,m):\n",
    "    return int(x**((m+1)/4))% m"
   ]
  },
  {
   "cell_type": "markdown",
   "metadata": {},
   "source": [
    "Nota: esto se puede usar por que $31 \\equiv 3 \\text{ mod } 4$"
   ]
  },
  {
   "cell_type": "code",
   "execution_count": 157,
   "metadata": {},
   "outputs": [
    {
     "data": {
      "text/plain": [
       "16"
      ]
     },
     "execution_count": 157,
     "metadata": {},
     "output_type": "execute_result"
    }
   ],
   "source": [
    "busSQRT(8,31)"
   ]
  },
  {
   "cell_type": "markdown",
   "metadata": {},
   "source": [
    "Vemos que 16 no es congruente con $1$ mod $2$ y tomando el inverso aditivo 15 tenemos que $$15 \\equiv 1 \\text{ mod } 2 $$entonces"
   ]
  },
  {
   "cell_type": "markdown",
   "metadata": {},
   "source": [
    "Entonces el punto descomprimido es (9,15), como la llave privada es 8 entonces se calcula"
   ]
  },
  {
   "cell_type": "code",
   "execution_count": 158,
   "metadata": {},
   "outputs": [
    {
     "data": {
      "text/plain": [
       "(6, 9)"
      ]
     },
     "execution_count": 158,
     "metadata": {},
     "output_type": "execute_result"
    }
   ],
   "source": [
    "sumaK((9,15),1,31,8)"
   ]
  },
  {
   "cell_type": "markdown",
   "metadata": {},
   "source": [
    "Teniendo el punto descomprimido (6,9) Usamos ahora la funcion de descifrado\n",
    "$$ d_k(y) = y_2(x_0)^{-1} \\text{ mod } 31 $$\n",
    "Sea $y_2 = 2, x_0 = 6$ \n",
    "\n",
    "$$d_k(y) = 2(6)^{-1} \\text{ mod } 31$$"
   ]
  },
  {
   "cell_type": "code",
   "execution_count": 159,
   "metadata": {},
   "outputs": [],
   "source": [
    "def d_k(y2,x0):\n",
    "    inver, x, y = inverso(x0,31)\n",
    "    #print(inver)\n",
    "    le = (y2*(inver%31)) % 31  \n",
    "    return le"
   ]
  },
  {
   "cell_type": "code",
   "execution_count": 160,
   "metadata": {},
   "outputs": [
    {
     "data": {
      "text/plain": [
       "21"
      ]
     },
     "execution_count": 160,
     "metadata": {},
     "output_type": "execute_result"
    }
   ],
   "source": [
    "d_k(2,6)"
   ]
  },
  {
   "cell_type": "markdown",
   "metadata": {},
   "source": [
    "Entonces para el punto ((9,1),2) = 21 = U"
   ]
  },
  {
   "cell_type": "markdown",
   "metadata": {},
   "source": [
    "Función que descifra puntos con cifrado ECIES\n",
    "    ((x,y),y0)\n"
   ]
  },
  {
   "cell_type": "code",
   "execution_count": 161,
   "metadata": {},
   "outputs": [],
   "source": [
    "def descifrar(x,y,y0):\n",
    "    r1 = busSQRT(evalua(x),31)\n",
    "    if r1%2 == y:\n",
    "        pdesc = sumaK((x,r1),1,31,8)\n",
    "        res = d_k(y0,pdesc[0])\n",
    "        print(res)\n",
    "        return res\n",
    "    else:\n",
    "        r1 = (r1 - 31)*-1\n",
    "        pdesc = sumaK((x,r1),1,31,8)\n",
    "        res = d_k(y0,pdesc[0])\n",
    "        print(res)\n",
    "        return res"
   ]
  },
  {
   "cell_type": "code",
   "execution_count": 162,
   "metadata": {},
   "outputs": [
    {
     "name": "stdout",
     "output_type": "stream",
     "text": [
      "21\n",
      "19\n",
      "1\n",
      "3\n",
      "21\n",
      "2\n",
      "18\n",
      "5\n",
      "2\n",
      "15\n",
      "3\n",
      "1\n",
      "19\n"
     ]
    },
    {
     "data": {
      "text/plain": [
       "19"
      ]
     },
     "execution_count": 162,
     "metadata": {},
     "output_type": "execute_result"
    }
   ],
   "source": [
    "descifrar(9,1,2)\n",
    "descifrar(19,0,10)\n",
    "descifrar(29,1,24)\n",
    "descifrar(12,1,24)\n",
    "descifrar(0,1,19)\n",
    "descifrar(24,1,13)\n",
    "descifrar(9,1,15)\n",
    "descifrar(19,0,1)\n",
    "descifrar(29,1,17)\n",
    "descifrar(24,1,20)\n",
    "descifrar(0,1,16)\n",
    "descifrar(27,0,4)\n",
    "descifrar(0,1,29)\n",
    "\n"
   ]
  },
  {
   "cell_type": "markdown",
   "metadata": {},
   "source": [
    "El mensaje es: USA CUBREBOCAS"
   ]
  }
 ],
 "metadata": {
  "kernelspec": {
   "display_name": "Python 3",
   "language": "python",
   "name": "python3"
  },
  "language_info": {
   "codemirror_mode": {
    "name": "ipython",
    "version": 3
   },
   "file_extension": ".py",
   "mimetype": "text/x-python",
   "name": "python",
   "nbconvert_exporter": "python",
   "pygments_lexer": "ipython3",
   "version": "3.8.3"
  }
 },
 "nbformat": 4,
 "nbformat_minor": 4
}
