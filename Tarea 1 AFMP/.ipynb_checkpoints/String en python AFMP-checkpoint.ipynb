{
 "cells": [
  {
   "cell_type": "markdown",
   "metadata": {},
   "source": [
    "## Ejercicio 4 de la Tarea 1 de Criptografía"
   ]
  },
  {
   "cell_type": "code",
   "execution_count": 3,
   "metadata": {},
   "outputs": [
    {
     "data": {
      "text/plain": [
       "Counter({' ': 389,\n",
       "         'M': 153,\n",
       "         'K': 231,\n",
       "         'B': 38,\n",
       "         'H': 67,\n",
       "         'P': 299,\n",
       "         'I': 148,\n",
       "         'O': 267,\n",
       "         'J': 243,\n",
       "         'T': 110,\n",
       "         'Q': 101,\n",
       "         'G': 109,\n",
       "         'S': 152,\n",
       "         'L': 61,\n",
       "         'D': 228,\n",
       "         'A': 20,\n",
       "         'U': 105,\n",
       "         '\\n': 35,\n",
       "         '.': 18,\n",
       "         'C': 5,\n",
       "         'V': 13,\n",
       "         'R': 14,\n",
       "         ',': 9,\n",
       "         'X': 4,\n",
       "         'N': 10,\n",
       "         'Z': 2,\n",
       "         '-': 2,\n",
       "         '1': 1,\n",
       "         'Y': 5,\n",
       "         'E': 3,\n",
       "         ':': 1})"
      ]
     },
     "execution_count": 3,
     "metadata": {},
     "output_type": "execute_result"
    }
   ],
   "source": [
    "from collections import Counter\n",
    "p = \"\"\" MKBHP IOJTQPG GPS LQDJIDLPGOS AUJIDKJOS MOG MJP SO QOSUHOJ OJ OG GGPHPMK\n",
    "MKBHP IOJTQPG MO GP BOJOTDIP HKGOIUGPQ. OG MJP SOHLOJP TPJTK UJP AUJIDKJ\n",
    "PUTKIPTPGDTDIP IKHK UJP AUJIDKJ COTOQKIPTPGDTDIP TQPJSIQDLIDKJ OJ QJP GP TQPMUIIDKJ \n",
    "P LQKTODJPS SO GGOVP P IPRK IKJ HKGMOS K LPTQKJOS MO QJPH, JUJIP IKJ\n",
    "GKS HKGMOS K LPTQKJOS MO MJP. GKS BOJOS GGOBPJ P OXLQOSPQSO AOJKTDLDIPHOJTO\n",
    "MORDMK P SU IPLPIDMPM LPQP OSLOIDADIPQ GPS OSTQUITUQPS MO GPS LQKTODJPS\n",
    "RDKGKBDIPHOJTO PITDVPS.\n",
    "IKMDBK BOJOTDIK GPS QOPIIDKJOS RDKNUDHDIPS SKJ HOMDMPS LKQ OJZDHPS, GPS IUPGOS SKJ TKMPS LQKTODJPS. GPS LQKTODJPS SKJ LKGDHOQKS SO SURUJDMPMMOS HKJKHO-\n",
    "QKS MOJKHDJPMKS PHDJKPIDMKS, P HOJUMK GGPHPMKS QOSDMUKS. IPMP PHDJKPIDMK\n",
    "1TDOJO UJ BQULK PHDJK JCSURDJMDIOMKS OJ UJK MO SUS OXTQOHKS Y UJ BQULK IPQRKXDGK\n",
    "IKKC OJ OG KTQK. JKQHPGHOJTO, SO LUOMOJ OJIKJTQPQ VODJTO MDAOQOJTOS TDLKS\n",
    "MO PHDJKPIDMKS, OJ UJP SOIUOJIDP OSLOIDADIPHOJTO KQMOJPMP. OJ GP SOIUOJIDP MO\n",
    "JUIGOKTDMKS MOG MJP SO IKMDADIP GP IGPVO JOBPTDVK LPQP GP LQKMUIIDKJ MO\n",
    "LQKTODJPS. PG JUHOQK MO JUIGOKTDMKS NUO LPQP UJ SKGK PHDJKPIDMK SO GO MOJKHDJP IKMKJ. CPY VODJTO PHDJKPIDMKS IKHUJOS, LOQK SKGK IUPTQK JUIGOKTDMKS\n",
    "MDAOQOJTOS. KRVDPHOJTO, UJ SDHLGO IKMKJ UJ JUIGOKTDMK NUO IKMDADIP LPQP UJ\n",
    "PHDJKPIDMK LUOMO IKMDADIPQ SKGK LPQP IUPTQK PHDJKPIDMKS. UJ MKRGO IKMDBK\n",
    "MKS JUIGOKTDMKS NUO IKMDADIPJ LPQP UJ PHDJKPIDMK LOQHDTO SKGK MDOIDSODS\n",
    "IKHRDJPIDKJOS. LKQ GK TPJTK Y MOSMO OG LUJTK MO VDSTP HPTOHPTDIK, UJ TQDLGO\n",
    "IKMDBK TQOS JUIGOKTDMKS NUO IKMDADIPJ LPQP UJ PHDJKPIDMK OS GP UJDMPM MO\n",
    "IKMDADIPIDKJ HPS LONUOJP IKMKJ IPLPZ MO PEUSTPQSO P GKS VODJTO PHDJKPIDMKS.\n",
    "GP OVDMOJIDP OXLOQDHOJTPG NUO PLKYP OG IKJIOLTK MOG TQDLGO IKMDBK AUO LQKLKQIDKJPMP LKQ OG OSTUMDK MO GP PMDIDKJ MO UJ SKGK LPQ MO RPSOS SOJIDGGPS\n",
    "PG BQULK MO OJGPIO SOJIDGGK MO UJ RPITOQDKBQPAK. SD GP TQPJSIQDLIDKJ MO UJP\n",
    "UJDMPM BOJOTDIP AUJIDKJPG IDSTQKJ MO MJP OJ QJPH SDOHLQO SO GOO MOSMO UJP\n",
    "LKSDIDKJ ADEP, OJTKJIOS GKS LQDHOQKS SODS IKMKJOS MO UJP IPMOJP MO UJ IDSTQKJ\n",
    "MO MJP LKMQDP SOQ GP SDBUDOJTO:\n",
    "TDPHDJPIDTKSDJPPMOJDJP BUPJDJPBUPJDJPIDTKSDJP TDPHDJPPMOJDJPPMODJP PMODJPBUPJDJPTDPHDJP IDTKSDJPBUPJDJPBUPJDJP TDPHDJPIDTKSDJPBUPJDJP\n",
    "GP PMDIDKJ MO UJP SKGP RPSO LKQ OEOHLGK BUPJDJP PG ADJPG MOG SOBUJMK IKMKJ\n",
    "LKMQDP MOSVDPQ K PGTOQPQ TKMKS GKS MOHPS IKMKJOS MO UJ JUIGOKTDMK AUQOP\n",
    "MOG QOBDSTQK O DHLOMDQ GP GOITUQP IKQQOITP MO TKMKS GKS IKMKJOS SDTUPMKS\n",
    "P GP MOQOICP MO GP RPSO PJPMDMP.\n",
    "TDPHDJPIDTKSDJPPMOJDJP BUPJDJPBUPJDJPIDTKIDJP BUPJDJPTDPHDJPPMOJDJP PMODJPPMODJPBUPJDJP TDPHDJPIDTKSDJPBUPJDJP BUPJDJPTDPHDJPIDTKSDJP BUPJDJP\n",
    "MO HPJOQP PJPGKBP IKJ GP OGDHDJPIDKJ MO JUIGOKTDMKS. TQOS OGDHDJPIDKJOS K\n",
    "HUGTDLGKS MO TQOS LUOMOJ IKQQOBDQ GP GOITUQP OJ GP SDJTOSDS MO UJP LQKTODJP\n",
    "PITDVP. KTQPS OVDMOJIDPS DJMDIPJ NUO OG IKMKJ OS UJP SOIUOJIDP MO TQOS HUIGOK-\n",
    "TDMKS Y MO PNUD NUO PG IKMDBK BOJOTDIK SO GO IKJKIP IKHK UJ TQDLGOTO K UJP\n",
    "TOQIDP. \"\"\"\n",
    "Counter(p)"
   ]
  },
  {
   "cell_type": "markdown",
   "metadata": {},
   "source": [
    "## Para que notemos la diferencia de ir haciendo las sustituciones, cuando encontremos una coincidencia sustituiremos por minuscula asi será más facil observar los cambios o palabras "
   ]
  },
  {
   "cell_type": "markdown",
   "metadata": {},
   "source": [
    "Empezamos sustituyendo la O por la e, ya que es la segunda letra que más se repite, puesto que si la sustituimos en la primera letra que más se repite tendríamos cosas incongruentes en el español."
   ]
  },
  {
   "cell_type": "code",
   "execution_count": 4,
   "metadata": {},
   "outputs": [
    {
     "name": "stdout",
     "output_type": "stream",
     "text": [
      " MKBHP IeJTQPG GPS LQDJIDLPGeS AUJIDKJeS MeG MJP Se QeSUHeJ eJ eG GGPHPMK\n",
      "MKBHP IeJTQPG Me GP BeJeTDIP HKGeIUGPQ. eG MJP SeHLeJP TPJTK UJP AUJIDKJ\n",
      "PUTKIPTPGDTDIP IKHK UJP AUJIDKJ CeTeQKIPTPGDTDIP TQPJSIQDLIDKJ eJ QJP GP TQPMUIIDKJ \n",
      "P LQKTeDJPS Se GGeVP P IPRK IKJ HKGMeS K LPTQKJeS Me QJPH, JUJIP IKJ\n",
      "GKS HKGMeS K LPTQKJeS Me MJP. GKS BeJeS GGeBPJ P eXLQeSPQSe AeJKTDLDIPHeJTe\n",
      "MeRDMK P SU IPLPIDMPM LPQP eSLeIDADIPQ GPS eSTQUITUQPS Me GPS LQKTeDJPS\n",
      "RDKGKBDIPHeJTe PITDVPS.\n",
      "IKMDBK BeJeTDIK GPS QePIIDKJeS RDKNUDHDIPS SKJ HeMDMPS LKQ eJZDHPS, GPS IUPGeS SKJ TKMPS LQKTeDJPS. GPS LQKTeDJPS SKJ LKGDHeQKS Se SURUJDMPMMeS HKJKHe-\n",
      "QKS MeJKHDJPMKS PHDJKPIDMKS, P HeJUMK GGPHPMKS QeSDMUKS. IPMP PHDJKPIDMK\n",
      "1TDeJe UJ BQULK PHDJK JCSURDJMDIeMKS eJ UJK Me SUS eXTQeHKS Y UJ BQULK IPQRKXDGK\n",
      "IKKC eJ eG KTQK. JKQHPGHeJTe, Se LUeMeJ eJIKJTQPQ VeDJTe MDAeQeJTeS TDLKS\n",
      "Me PHDJKPIDMKS, eJ UJP SeIUeJIDP eSLeIDADIPHeJTe KQMeJPMP. eJ GP SeIUeJIDP Me\n",
      "JUIGeKTDMKS MeG MJP Se IKMDADIP GP IGPVe JeBPTDVK LPQP GP LQKMUIIDKJ Me\n",
      "LQKTeDJPS. PG JUHeQK Me JUIGeKTDMKS NUe LPQP UJ SKGK PHDJKPIDMK Se Ge MeJKHDJP IKMKJ. CPY VeDJTe PHDJKPIDMKS IKHUJeS, LeQK SKGK IUPTQK JUIGeKTDMKS\n",
      "MDAeQeJTeS. KRVDPHeJTe, UJ SDHLGe IKMKJ UJ JUIGeKTDMK NUe IKMDADIP LPQP UJ\n",
      "PHDJKPIDMK LUeMe IKMDADIPQ SKGK LPQP IUPTQK PHDJKPIDMKS. UJ MKRGe IKMDBK\n",
      "MKS JUIGeKTDMKS NUe IKMDADIPJ LPQP UJ PHDJKPIDMK LeQHDTe SKGK MDeIDSeDS\n",
      "IKHRDJPIDKJeS. LKQ GK TPJTK Y MeSMe eG LUJTK Me VDSTP HPTeHPTDIK, UJ TQDLGe\n",
      "IKMDBK TQeS JUIGeKTDMKS NUe IKMDADIPJ LPQP UJ PHDJKPIDMK eS GP UJDMPM Me\n",
      "IKMDADIPIDKJ HPS LeNUeJP IKMKJ IPLPZ Me PEUSTPQSe P GKS VeDJTe PHDJKPIDMKS.\n",
      "GP eVDMeJIDP eXLeQDHeJTPG NUe PLKYP eG IKJIeLTK MeG TQDLGe IKMDBK AUe LQKLKQIDKJPMP LKQ eG eSTUMDK Me GP PMDIDKJ Me UJ SKGK LPQ Me RPSeS SeJIDGGPS\n",
      "PG BQULK Me eJGPIe SeJIDGGK Me UJ RPITeQDKBQPAK. SD GP TQPJSIQDLIDKJ Me UJP\n",
      "UJDMPM BeJeTDIP AUJIDKJPG IDSTQKJ Me MJP eJ QJPH SDeHLQe Se Gee MeSMe UJP\n",
      "LKSDIDKJ ADEP, eJTKJIeS GKS LQDHeQKS SeDS IKMKJeS Me UJP IPMeJP Me UJ IDSTQKJ\n",
      "Me MJP LKMQDP SeQ GP SDBUDeJTe:\n",
      "TDPHDJPIDTKSDJPPMeJDJP BUPJDJPBUPJDJPIDTKSDJP TDPHDJPPMeJDJPPMeDJP PMeDJPBUPJDJPTDPHDJP IDTKSDJPBUPJDJPBUPJDJP TDPHDJPIDTKSDJPBUPJDJP\n",
      "GP PMDIDKJ Me UJP SKGP RPSe LKQ eEeHLGK BUPJDJP PG ADJPG MeG SeBUJMK IKMKJ\n",
      "LKMQDP MeSVDPQ K PGTeQPQ TKMKS GKS MeHPS IKMKJeS Me UJ JUIGeKTDMK AUQeP\n",
      "MeG QeBDSTQK e DHLeMDQ GP GeITUQP IKQQeITP Me TKMKS GKS IKMKJeS SDTUPMKS\n",
      "P GP MeQeICP Me GP RPSe PJPMDMP.\n",
      "TDPHDJPIDTKSDJPPMeJDJP BUPJDJPBUPJDJPIDTKIDJP BUPJDJPTDPHDJPPMeJDJP PMeDJPPMeDJPBUPJDJP TDPHDJPIDTKSDJPBUPJDJP BUPJDJPTDPHDJPIDTKSDJP BUPJDJP\n",
      "Me HPJeQP PJPGKBP IKJ GP eGDHDJPIDKJ Me JUIGeKTDMKS. TQeS eGDHDJPIDKJeS K\n",
      "HUGTDLGKS Me TQeS LUeMeJ IKQQeBDQ GP GeITUQP eJ GP SDJTeSDS Me UJP LQKTeDJP\n",
      "PITDVP. KTQPS eVDMeJIDPS DJMDIPJ NUe eG IKMKJ eS UJP SeIUeJIDP Me TQeS HUIGeK-\n",
      "TDMKS Y Me PNUD NUe PG IKMDBK BeJeTDIK Se Ge IKJKIP IKHK UJ TQDLGeTe K UJP\n",
      "TeQIDP. \n"
     ]
    }
   ],
   "source": [
    "cadOE = p.replace(\"O\", \"e\")\n",
    "print(cadOE)"
   ]
  },
  {
   "cell_type": "code",
   "execution_count": 5,
   "metadata": {},
   "outputs": [
    {
     "name": "stdout",
     "output_type": "stream",
     "text": [
      " MKBHa IeJTQaG GaS LQDJIDLaGeS AUJIDKJeS MeG MJa Se QeSUHeJ eJ eG GGaHaMK\n",
      "MKBHa IeJTQaG Me Ga BeJeTDIa HKGeIUGaQ. eG MJa SeHLeJa TaJTK UJa AUJIDKJ\n",
      "aUTKIaTaGDTDIa IKHK UJa AUJIDKJ CeTeQKIaTaGDTDIa TQaJSIQDLIDKJ eJ QJa Ga TQaMUIIDKJ \n",
      "a LQKTeDJaS Se GGeVa a IaRK IKJ HKGMeS K LaTQKJeS Me QJaH, JUJIa IKJ\n",
      "GKS HKGMeS K LaTQKJeS Me MJa. GKS BeJeS GGeBaJ a eXLQeSaQSe AeJKTDLDIaHeJTe\n",
      "MeRDMK a SU IaLaIDMaM LaQa eSLeIDADIaQ GaS eSTQUITUQaS Me GaS LQKTeDJaS\n",
      "RDKGKBDIaHeJTe aITDVaS.\n",
      "IKMDBK BeJeTDIK GaS QeaIIDKJeS RDKNUDHDIaS SKJ HeMDMaS LKQ eJZDHaS, GaS IUaGeS SKJ TKMaS LQKTeDJaS. GaS LQKTeDJaS SKJ LKGDHeQKS Se SURUJDMaMMeS HKJKHe-\n",
      "QKS MeJKHDJaMKS aHDJKaIDMKS, a HeJUMK GGaHaMKS QeSDMUKS. IaMa aHDJKaIDMK\n",
      "1TDeJe UJ BQULK aHDJK JCSURDJMDIeMKS eJ UJK Me SUS eXTQeHKS Y UJ BQULK IaQRKXDGK\n",
      "IKKC eJ eG KTQK. JKQHaGHeJTe, Se LUeMeJ eJIKJTQaQ VeDJTe MDAeQeJTeS TDLKS\n",
      "Me aHDJKaIDMKS, eJ UJa SeIUeJIDa eSLeIDADIaHeJTe KQMeJaMa. eJ Ga SeIUeJIDa Me\n",
      "JUIGeKTDMKS MeG MJa Se IKMDADIa Ga IGaVe JeBaTDVK LaQa Ga LQKMUIIDKJ Me\n",
      "LQKTeDJaS. aG JUHeQK Me JUIGeKTDMKS NUe LaQa UJ SKGK aHDJKaIDMK Se Ge MeJKHDJa IKMKJ. CaY VeDJTe aHDJKaIDMKS IKHUJeS, LeQK SKGK IUaTQK JUIGeKTDMKS\n",
      "MDAeQeJTeS. KRVDaHeJTe, UJ SDHLGe IKMKJ UJ JUIGeKTDMK NUe IKMDADIa LaQa UJ\n",
      "aHDJKaIDMK LUeMe IKMDADIaQ SKGK LaQa IUaTQK aHDJKaIDMKS. UJ MKRGe IKMDBK\n",
      "MKS JUIGeKTDMKS NUe IKMDADIaJ LaQa UJ aHDJKaIDMK LeQHDTe SKGK MDeIDSeDS\n",
      "IKHRDJaIDKJeS. LKQ GK TaJTK Y MeSMe eG LUJTK Me VDSTa HaTeHaTDIK, UJ TQDLGe\n",
      "IKMDBK TQeS JUIGeKTDMKS NUe IKMDADIaJ LaQa UJ aHDJKaIDMK eS Ga UJDMaM Me\n",
      "IKMDADIaIDKJ HaS LeNUeJa IKMKJ IaLaZ Me aEUSTaQSe a GKS VeDJTe aHDJKaIDMKS.\n",
      "Ga eVDMeJIDa eXLeQDHeJTaG NUe aLKYa eG IKJIeLTK MeG TQDLGe IKMDBK AUe LQKLKQIDKJaMa LKQ eG eSTUMDK Me Ga aMDIDKJ Me UJ SKGK LaQ Me RaSeS SeJIDGGaS\n",
      "aG BQULK Me eJGaIe SeJIDGGK Me UJ RaITeQDKBQaAK. SD Ga TQaJSIQDLIDKJ Me UJa\n",
      "UJDMaM BeJeTDIa AUJIDKJaG IDSTQKJ Me MJa eJ QJaH SDeHLQe Se Gee MeSMe UJa\n",
      "LKSDIDKJ ADEa, eJTKJIeS GKS LQDHeQKS SeDS IKMKJeS Me UJa IaMeJa Me UJ IDSTQKJ\n",
      "Me MJa LKMQDa SeQ Ga SDBUDeJTe:\n",
      "TDaHDJaIDTKSDJaaMeJDJa BUaJDJaBUaJDJaIDTKSDJa TDaHDJaaMeJDJaaMeDJa aMeDJaBUaJDJaTDaHDJa IDTKSDJaBUaJDJaBUaJDJa TDaHDJaIDTKSDJaBUaJDJa\n",
      "Ga aMDIDKJ Me UJa SKGa RaSe LKQ eEeHLGK BUaJDJa aG ADJaG MeG SeBUJMK IKMKJ\n",
      "LKMQDa MeSVDaQ K aGTeQaQ TKMKS GKS MeHaS IKMKJeS Me UJ JUIGeKTDMK AUQea\n",
      "MeG QeBDSTQK e DHLeMDQ Ga GeITUQa IKQQeITa Me TKMKS GKS IKMKJeS SDTUaMKS\n",
      "a Ga MeQeICa Me Ga RaSe aJaMDMa.\n",
      "TDaHDJaIDTKSDJaaMeJDJa BUaJDJaBUaJDJaIDTKIDJa BUaJDJaTDaHDJaaMeJDJa aMeDJaaMeDJaBUaJDJa TDaHDJaIDTKSDJaBUaJDJa BUaJDJaTDaHDJaIDTKSDJa BUaJDJa\n",
      "Me HaJeQa aJaGKBa IKJ Ga eGDHDJaIDKJ Me JUIGeKTDMKS. TQeS eGDHDJaIDKJeS K\n",
      "HUGTDLGKS Me TQeS LUeMeJ IKQQeBDQ Ga GeITUQa eJ Ga SDJTeSDS Me UJa LQKTeDJa\n",
      "aITDVa. KTQaS eVDMeJIDaS DJMDIaJ NUe eG IKMKJ eS UJa SeIUeJIDa Me TQeS HUIGeK-\n",
      "TDMKS Y Me aNUD NUe aG IKMDBK BeJeTDIK Se Ge IKJKIa IKHK UJ TQDLGeTe K UJa\n",
      "TeQIDa. \n"
     ]
    }
   ],
   "source": [
    "cadOEPA = cadOE.replace(\"P\",\"a\")\n",
    "print(cadOEPA) "
   ]
  },
  {
   "cell_type": "code",
   "execution_count": 6,
   "metadata": {},
   "outputs": [
    {
     "name": "stdout",
     "output_type": "stream",
     "text": [
      " MKBHa IeJTQal laS LQDJIDLaleS AUJIDKJeS Mel MJa Se QeSUHeJ eJ el llaHaMK\n",
      "MKBHa IeJTQal Me la BeJeTDIa HKleIUlaQ. el MJa SeHLeJa TaJTK UJa AUJIDKJ\n",
      "aUTKIaTalDTDIa IKHK UJa AUJIDKJ CeTeQKIaTalDTDIa TQaJSIQDLIDKJ eJ QJa la TQaMUIIDKJ \n",
      "a LQKTeDJaS Se lleVa a IaRK IKJ HKlMeS K LaTQKJeS Me QJaH, JUJIa IKJ\n",
      "lKS HKlMeS K LaTQKJeS Me MJa. lKS BeJeS lleBaJ a eXLQeSaQSe AeJKTDLDIaHeJTe\n",
      "MeRDMK a SU IaLaIDMaM LaQa eSLeIDADIaQ laS eSTQUITUQaS Me laS LQKTeDJaS\n",
      "RDKlKBDIaHeJTe aITDVaS.\n",
      "IKMDBK BeJeTDIK laS QeaIIDKJeS RDKNUDHDIaS SKJ HeMDMaS LKQ eJZDHaS, laS IUaleS SKJ TKMaS LQKTeDJaS. laS LQKTeDJaS SKJ LKlDHeQKS Se SURUJDMaMMeS HKJKHe-\n",
      "QKS MeJKHDJaMKS aHDJKaIDMKS, a HeJUMK llaHaMKS QeSDMUKS. IaMa aHDJKaIDMK\n",
      "1TDeJe UJ BQULK aHDJK JCSURDJMDIeMKS eJ UJK Me SUS eXTQeHKS Y UJ BQULK IaQRKXDlK\n",
      "IKKC eJ el KTQK. JKQHalHeJTe, Se LUeMeJ eJIKJTQaQ VeDJTe MDAeQeJTeS TDLKS\n",
      "Me aHDJKaIDMKS, eJ UJa SeIUeJIDa eSLeIDADIaHeJTe KQMeJaMa. eJ la SeIUeJIDa Me\n",
      "JUIleKTDMKS Mel MJa Se IKMDADIa la IlaVe JeBaTDVK LaQa la LQKMUIIDKJ Me\n",
      "LQKTeDJaS. al JUHeQK Me JUIleKTDMKS NUe LaQa UJ SKlK aHDJKaIDMK Se le MeJKHDJa IKMKJ. CaY VeDJTe aHDJKaIDMKS IKHUJeS, LeQK SKlK IUaTQK JUIleKTDMKS\n",
      "MDAeQeJTeS. KRVDaHeJTe, UJ SDHLle IKMKJ UJ JUIleKTDMK NUe IKMDADIa LaQa UJ\n",
      "aHDJKaIDMK LUeMe IKMDADIaQ SKlK LaQa IUaTQK aHDJKaIDMKS. UJ MKRle IKMDBK\n",
      "MKS JUIleKTDMKS NUe IKMDADIaJ LaQa UJ aHDJKaIDMK LeQHDTe SKlK MDeIDSeDS\n",
      "IKHRDJaIDKJeS. LKQ lK TaJTK Y MeSMe el LUJTK Me VDSTa HaTeHaTDIK, UJ TQDLle\n",
      "IKMDBK TQeS JUIleKTDMKS NUe IKMDADIaJ LaQa UJ aHDJKaIDMK eS la UJDMaM Me\n",
      "IKMDADIaIDKJ HaS LeNUeJa IKMKJ IaLaZ Me aEUSTaQSe a lKS VeDJTe aHDJKaIDMKS.\n",
      "la eVDMeJIDa eXLeQDHeJTal NUe aLKYa el IKJIeLTK Mel TQDLle IKMDBK AUe LQKLKQIDKJaMa LKQ el eSTUMDK Me la aMDIDKJ Me UJ SKlK LaQ Me RaSeS SeJIDllaS\n",
      "al BQULK Me eJlaIe SeJIDllK Me UJ RaITeQDKBQaAK. SD la TQaJSIQDLIDKJ Me UJa\n",
      "UJDMaM BeJeTDIa AUJIDKJal IDSTQKJ Me MJa eJ QJaH SDeHLQe Se lee MeSMe UJa\n",
      "LKSDIDKJ ADEa, eJTKJIeS lKS LQDHeQKS SeDS IKMKJeS Me UJa IaMeJa Me UJ IDSTQKJ\n",
      "Me MJa LKMQDa SeQ la SDBUDeJTe:\n",
      "TDaHDJaIDTKSDJaaMeJDJa BUaJDJaBUaJDJaIDTKSDJa TDaHDJaaMeJDJaaMeDJa aMeDJaBUaJDJaTDaHDJa IDTKSDJaBUaJDJaBUaJDJa TDaHDJaIDTKSDJaBUaJDJa\n",
      "la aMDIDKJ Me UJa SKla RaSe LKQ eEeHLlK BUaJDJa al ADJal Mel SeBUJMK IKMKJ\n",
      "LKMQDa MeSVDaQ K alTeQaQ TKMKS lKS MeHaS IKMKJeS Me UJ JUIleKTDMK AUQea\n",
      "Mel QeBDSTQK e DHLeMDQ la leITUQa IKQQeITa Me TKMKS lKS IKMKJeS SDTUaMKS\n",
      "a la MeQeICa Me la RaSe aJaMDMa.\n",
      "TDaHDJaIDTKSDJaaMeJDJa BUaJDJaBUaJDJaIDTKIDJa BUaJDJaTDaHDJaaMeJDJa aMeDJaaMeDJaBUaJDJa TDaHDJaIDTKSDJaBUaJDJa BUaJDJaTDaHDJaIDTKSDJa BUaJDJa\n",
      "Me HaJeQa aJalKBa IKJ la elDHDJaIDKJ Me JUIleKTDMKS. TQeS elDHDJaIDKJeS K\n",
      "HUlTDLlKS Me TQeS LUeMeJ IKQQeBDQ la leITUQa eJ la SDJTeSDS Me UJa LQKTeDJa\n",
      "aITDVa. KTQaS eVDMeJIDaS DJMDIaJ NUe el IKMKJ eS UJa SeIUeJIDa Me TQeS HUIleK-\n",
      "TDMKS Y Me aNUD NUe al IKMDBK BeJeTDIK Se le IKJKIa IKHK UJ TQDLleTe K UJa\n",
      "TeQIDa. \n"
     ]
    }
   ],
   "source": [
    "cadOEPAGL = cadOEPA.replace(\"G\",\"l\")\n",
    "print(cadOEPAGL) "
   ]
  },
  {
   "cell_type": "markdown",
   "metadata": {},
   "source": [
    "Tenemos palabras como **eJlaIe** y **IlaVe** por ello dedujimos que J = n y como tenemos GPS = laS proponemos S = s"
   ]
  },
  {
   "cell_type": "code",
   "execution_count": 7,
   "metadata": {},
   "outputs": [
    {
     "name": "stdout",
     "output_type": "stream",
     "text": [
      " MKBHa IenTQal las LQDnIDLales AUnIDKnes Mel Mna se QesUHen en el llaHaMK\n",
      "MKBHa IenTQal Me la BeneTDIa HKleIUlaQ. el Mna seHLena TanTK Una AUnIDKn\n",
      "aUTKIaTalDTDIa IKHK Una AUnIDKn CeTeQKIaTalDTDIa TQansIQDLIDKn en Qna la TQaMUIIDKn \n",
      "a LQKTeDnas se lleVa a IaRK IKn HKlMes K LaTQKnes Me QnaH, nUnIa IKn\n",
      "lKs HKlMes K LaTQKnes Me Mna. lKs Benes lleBan a eXLQesaQse AenKTDLDIaHenTe\n",
      "MeRDMK a sU IaLaIDMaM LaQa esLeIDADIaQ las esTQUITUQas Me las LQKTeDnas\n",
      "RDKlKBDIaHenTe aITDVas.\n",
      "IKMDBK BeneTDIK las QeaIIDKnes RDKNUDHDIas sKn HeMDMas LKQ enZDHas, las IUales sKn TKMas LQKTeDnas. las LQKTeDnas sKn LKlDHeQKs se sURUnDMaMMes HKnKHe-\n",
      "QKs MenKHDnaMKs aHDnKaIDMKs, a HenUMK llaHaMKs QesDMUKs. IaMa aHDnKaIDMK\n",
      "1TDene Un BQULK aHDnK nCsURDnMDIeMKs en UnK Me sUs eXTQeHKs Y Un BQULK IaQRKXDlK\n",
      "IKKC en el KTQK. nKQHalHenTe, se LUeMen enIKnTQaQ VeDnTe MDAeQenTes TDLKs\n",
      "Me aHDnKaIDMKs, en Una seIUenIDa esLeIDADIaHenTe KQMenaMa. en la seIUenIDa Me\n",
      "nUIleKTDMKs Mel Mna se IKMDADIa la IlaVe neBaTDVK LaQa la LQKMUIIDKn Me\n",
      "LQKTeDnas. al nUHeQK Me nUIleKTDMKs NUe LaQa Un sKlK aHDnKaIDMK se le MenKHDna IKMKn. CaY VeDnTe aHDnKaIDMKs IKHUnes, LeQK sKlK IUaTQK nUIleKTDMKs\n",
      "MDAeQenTes. KRVDaHenTe, Un sDHLle IKMKn Un nUIleKTDMK NUe IKMDADIa LaQa Un\n",
      "aHDnKaIDMK LUeMe IKMDADIaQ sKlK LaQa IUaTQK aHDnKaIDMKs. Un MKRle IKMDBK\n",
      "MKs nUIleKTDMKs NUe IKMDADIan LaQa Un aHDnKaIDMK LeQHDTe sKlK MDeIDseDs\n",
      "IKHRDnaIDKnes. LKQ lK TanTK Y MesMe el LUnTK Me VDsTa HaTeHaTDIK, Un TQDLle\n",
      "IKMDBK TQes nUIleKTDMKs NUe IKMDADIan LaQa Un aHDnKaIDMK es la UnDMaM Me\n",
      "IKMDADIaIDKn Has LeNUena IKMKn IaLaZ Me aEUsTaQse a lKs VeDnTe aHDnKaIDMKs.\n",
      "la eVDMenIDa eXLeQDHenTal NUe aLKYa el IKnIeLTK Mel TQDLle IKMDBK AUe LQKLKQIDKnaMa LKQ el esTUMDK Me la aMDIDKn Me Un sKlK LaQ Me Rases senIDllas\n",
      "al BQULK Me enlaIe senIDllK Me Un RaITeQDKBQaAK. sD la TQansIQDLIDKn Me Una\n",
      "UnDMaM BeneTDIa AUnIDKnal IDsTQKn Me Mna en QnaH sDeHLQe se lee MesMe Una\n",
      "LKsDIDKn ADEa, enTKnIes lKs LQDHeQKs seDs IKMKnes Me Una IaMena Me Un IDsTQKn\n",
      "Me Mna LKMQDa seQ la sDBUDenTe:\n",
      "TDaHDnaIDTKsDnaaMenDna BUanDnaBUanDnaIDTKsDna TDaHDnaaMenDnaaMeDna aMeDnaBUanDnaTDaHDna IDTKsDnaBUanDnaBUanDna TDaHDnaIDTKsDnaBUanDna\n",
      "la aMDIDKn Me Una sKla Rase LKQ eEeHLlK BUanDna al ADnal Mel seBUnMK IKMKn\n",
      "LKMQDa MesVDaQ K alTeQaQ TKMKs lKs MeHas IKMKnes Me Un nUIleKTDMK AUQea\n",
      "Mel QeBDsTQK e DHLeMDQ la leITUQa IKQQeITa Me TKMKs lKs IKMKnes sDTUaMKs\n",
      "a la MeQeICa Me la Rase anaMDMa.\n",
      "TDaHDnaIDTKsDnaaMenDna BUanDnaBUanDnaIDTKIDna BUanDnaTDaHDnaaMenDna aMeDnaaMeDnaBUanDna TDaHDnaIDTKsDnaBUanDna BUanDnaTDaHDnaIDTKsDna BUanDna\n",
      "Me HaneQa analKBa IKn la elDHDnaIDKn Me nUIleKTDMKs. TQes elDHDnaIDKnes K\n",
      "HUlTDLlKs Me TQes LUeMen IKQQeBDQ la leITUQa en la sDnTesDs Me Una LQKTeDna\n",
      "aITDVa. KTQas eVDMenIDas DnMDIan NUe el IKMKn es Una seIUenIDa Me TQes HUIleK-\n",
      "TDMKs Y Me aNUD NUe al IKMDBK BeneTDIK se le IKnKIa IKHK Un TQDLleTe K Una\n",
      "TeQIDa. \n"
     ]
    }
   ],
   "source": [
    "cadOEPAGLJN = cadOEPAGL.replace(\"J\",\"n\")\n",
    "cadOEPAGLJNSS = cadOEPAGLJN.replace(\"S\",\"s\")\n",
    "print(cadOEPAGLJNSS) "
   ]
  },
  {
   "cell_type": "markdown",
   "metadata": {},
   "source": [
    "Por la misma palabra y despues de darle un vistazo a la sustitución podemos decir que enlaIe debe ser enlace"
   ]
  },
  {
   "cell_type": "code",
   "execution_count": 8,
   "metadata": {},
   "outputs": [
    {
     "name": "stdout",
     "output_type": "stream",
     "text": [
      " MKBHa cenTQal las LQDncDLales AUncDKnes Mel Mna se QesUHen en el llaHaMK\n",
      "MKBHa cenTQal Me la BeneTDca HKlecUlaQ. el Mna seHLena TanTK Una AUncDKn\n",
      "aUTKcaTalDTDca cKHK Una AUncDKn CeTeQKcaTalDTDca TQanscQDLcDKn en Qna la TQaMUccDKn \n",
      "a LQKTeDnas se lleVa a caRK cKn HKlMes K LaTQKnes Me QnaH, nUnca cKn\n",
      "lKs HKlMes K LaTQKnes Me Mna. lKs Benes lleBan a eXLQesaQse AenKTDLDcaHenTe\n",
      "MeRDMK a sU caLacDMaM LaQa esLecDADcaQ las esTQUcTUQas Me las LQKTeDnas\n",
      "RDKlKBDcaHenTe acTDVas.\n",
      "cKMDBK BeneTDcK las QeaccDKnes RDKNUDHDcas sKn HeMDMas LKQ enZDHas, las cUales sKn TKMas LQKTeDnas. las LQKTeDnas sKn LKlDHeQKs se sURUnDMaMMes HKnKHe-\n",
      "QKs MenKHDnaMKs aHDnKacDMKs, a HenUMK llaHaMKs QesDMUKs. caMa aHDnKacDMK\n",
      "1TDene Un BQULK aHDnK nCsURDnMDceMKs en UnK Me sUs eXTQeHKs Y Un BQULK caQRKXDlK\n",
      "cKKC en el KTQK. nKQHalHenTe, se LUeMen encKnTQaQ VeDnTe MDAeQenTes TDLKs\n",
      "Me aHDnKacDMKs, en Una secUencDa esLecDADcaHenTe KQMenaMa. en la secUencDa Me\n",
      "nUcleKTDMKs Mel Mna se cKMDADca la claVe neBaTDVK LaQa la LQKMUccDKn Me\n",
      "LQKTeDnas. al nUHeQK Me nUcleKTDMKs NUe LaQa Un sKlK aHDnKacDMK se le MenKHDna cKMKn. CaY VeDnTe aHDnKacDMKs cKHUnes, LeQK sKlK cUaTQK nUcleKTDMKs\n",
      "MDAeQenTes. KRVDaHenTe, Un sDHLle cKMKn Un nUcleKTDMK NUe cKMDADca LaQa Un\n",
      "aHDnKacDMK LUeMe cKMDADcaQ sKlK LaQa cUaTQK aHDnKacDMKs. Un MKRle cKMDBK\n",
      "MKs nUcleKTDMKs NUe cKMDADcan LaQa Un aHDnKacDMK LeQHDTe sKlK MDecDseDs\n",
      "cKHRDnacDKnes. LKQ lK TanTK Y MesMe el LUnTK Me VDsTa HaTeHaTDcK, Un TQDLle\n",
      "cKMDBK TQes nUcleKTDMKs NUe cKMDADcan LaQa Un aHDnKacDMK es la UnDMaM Me\n",
      "cKMDADcacDKn Has LeNUena cKMKn caLaZ Me aEUsTaQse a lKs VeDnTe aHDnKacDMKs.\n",
      "la eVDMencDa eXLeQDHenTal NUe aLKYa el cKnceLTK Mel TQDLle cKMDBK AUe LQKLKQcDKnaMa LKQ el esTUMDK Me la aMDcDKn Me Un sKlK LaQ Me Rases sencDllas\n",
      "al BQULK Me enlace sencDllK Me Un RacTeQDKBQaAK. sD la TQanscQDLcDKn Me Una\n",
      "UnDMaM BeneTDca AUncDKnal cDsTQKn Me Mna en QnaH sDeHLQe se lee MesMe Una\n",
      "LKsDcDKn ADEa, enTKnces lKs LQDHeQKs seDs cKMKnes Me Una caMena Me Un cDsTQKn\n",
      "Me Mna LKMQDa seQ la sDBUDenTe:\n",
      "TDaHDnacDTKsDnaaMenDna BUanDnaBUanDnacDTKsDna TDaHDnaaMenDnaaMeDna aMeDnaBUanDnaTDaHDna cDTKsDnaBUanDnaBUanDna TDaHDnacDTKsDnaBUanDna\n",
      "la aMDcDKn Me Una sKla Rase LKQ eEeHLlK BUanDna al ADnal Mel seBUnMK cKMKn\n",
      "LKMQDa MesVDaQ K alTeQaQ TKMKs lKs MeHas cKMKnes Me Un nUcleKTDMK AUQea\n",
      "Mel QeBDsTQK e DHLeMDQ la lecTUQa cKQQecTa Me TKMKs lKs cKMKnes sDTUaMKs\n",
      "a la MeQecCa Me la Rase anaMDMa.\n",
      "TDaHDnacDTKsDnaaMenDna BUanDnaBUanDnacDTKcDna BUanDnaTDaHDnaaMenDna aMeDnaaMeDnaBUanDna TDaHDnacDTKsDnaBUanDna BUanDnaTDaHDnacDTKsDna BUanDna\n",
      "Me HaneQa analKBa cKn la elDHDnacDKn Me nUcleKTDMKs. TQes elDHDnacDKnes K\n",
      "HUlTDLlKs Me TQes LUeMen cKQQeBDQ la lecTUQa en la sDnTesDs Me Una LQKTeDna\n",
      "acTDVa. KTQas eVDMencDas DnMDcan NUe el cKMKn es Una secUencDa Me TQes HUcleK-\n",
      "TDMKs Y Me aNUD NUe al cKMDBK BeneTDcK se le cKnKca cKHK Un TQDLleTe K Una\n",
      "TeQcDa. \n"
     ]
    }
   ],
   "source": [
    "\n",
    "cad1 = cadOEPAGLJNSS.replace(\"I\",\"c\")\n",
    "print(cad1) "
   ]
  },
  {
   "cell_type": "markdown",
   "metadata": {},
   "source": [
    "Observamos que tenemos claVe por ello sustituimos V = v"
   ]
  },
  {
   "cell_type": "code",
   "execution_count": 9,
   "metadata": {},
   "outputs": [
    {
     "name": "stdout",
     "output_type": "stream",
     "text": [
      " MKBHa cenTQal las LQDncDLales AUncDKnes Mel Mna se QesUHen en el llaHaMK\n",
      "MKBHa cenTQal Me la BeneTDca HKlecUlaQ. el Mna seHLena TanTK Una AUncDKn\n",
      "aUTKcaTalDTDca cKHK Una AUncDKn CeTeQKcaTalDTDca TQanscQDLcDKn en Qna la TQaMUccDKn \n",
      "a LQKTeDnas se lleva a caRK cKn HKlMes K LaTQKnes Me QnaH, nUnca cKn\n",
      "lKs HKlMes K LaTQKnes Me Mna. lKs Benes lleBan a eXLQesaQse AenKTDLDcaHenTe\n",
      "MeRDMK a sU caLacDMaM LaQa esLecDADcaQ las esTQUcTUQas Me las LQKTeDnas\n",
      "RDKlKBDcaHenTe acTDvas.\n",
      "cKMDBK BeneTDcK las QeaccDKnes RDKNUDHDcas sKn HeMDMas LKQ enZDHas, las cUales sKn TKMas LQKTeDnas. las LQKTeDnas sKn LKlDHeQKs se sURUnDMaMMes HKnKHe-\n",
      "QKs MenKHDnaMKs aHDnKacDMKs, a HenUMK llaHaMKs QesDMUKs. caMa aHDnKacDMK\n",
      "1TDene Un BQULK aHDnK nCsURDnMDceMKs en UnK Me sUs eXTQeHKs Y Un BQULK caQRKXDlK\n",
      "cKKC en el KTQK. nKQHalHenTe, se LUeMen encKnTQaQ veDnTe MDAeQenTes TDLKs\n",
      "Me aHDnKacDMKs, en Una secUencDa esLecDADcaHenTe KQMenaMa. en la secUencDa Me\n",
      "nUcleKTDMKs Mel Mna se cKMDADca la clave neBaTDvK LaQa la LQKMUccDKn Me\n",
      "LQKTeDnas. al nUHeQK Me nUcleKTDMKs NUe LaQa Un sKlK aHDnKacDMK se le MenKHDna cKMKn. CaY veDnTe aHDnKacDMKs cKHUnes, LeQK sKlK cUaTQK nUcleKTDMKs\n",
      "MDAeQenTes. KRvDaHenTe, Un sDHLle cKMKn Un nUcleKTDMK NUe cKMDADca LaQa Un\n",
      "aHDnKacDMK LUeMe cKMDADcaQ sKlK LaQa cUaTQK aHDnKacDMKs. Un MKRle cKMDBK\n",
      "MKs nUcleKTDMKs NUe cKMDADcan LaQa Un aHDnKacDMK LeQHDTe sKlK MDecDseDs\n",
      "cKHRDnacDKnes. LKQ lK TanTK Y MesMe el LUnTK Me vDsTa HaTeHaTDcK, Un TQDLle\n",
      "cKMDBK TQes nUcleKTDMKs NUe cKMDADcan LaQa Un aHDnKacDMK es la UnDMaM Me\n",
      "cKMDADcacDKn Has LeNUena cKMKn caLaZ Me aEUsTaQse a lKs veDnTe aHDnKacDMKs.\n",
      "la evDMencDa eXLeQDHenTal NUe aLKYa el cKnceLTK Mel TQDLle cKMDBK AUe LQKLKQcDKnaMa LKQ el esTUMDK Me la aMDcDKn Me Un sKlK LaQ Me Rases sencDllas\n",
      "al BQULK Me enlace sencDllK Me Un RacTeQDKBQaAK. sD la TQanscQDLcDKn Me Una\n",
      "UnDMaM BeneTDca AUncDKnal cDsTQKn Me Mna en QnaH sDeHLQe se lee MesMe Una\n",
      "LKsDcDKn ADEa, enTKnces lKs LQDHeQKs seDs cKMKnes Me Una caMena Me Un cDsTQKn\n",
      "Me Mna LKMQDa seQ la sDBUDenTe:\n",
      "TDaHDnacDTKsDnaaMenDna BUanDnaBUanDnacDTKsDna TDaHDnaaMenDnaaMeDna aMeDnaBUanDnaTDaHDna cDTKsDnaBUanDnaBUanDna TDaHDnacDTKsDnaBUanDna\n",
      "la aMDcDKn Me Una sKla Rase LKQ eEeHLlK BUanDna al ADnal Mel seBUnMK cKMKn\n",
      "LKMQDa MesvDaQ K alTeQaQ TKMKs lKs MeHas cKMKnes Me Un nUcleKTDMK AUQea\n",
      "Mel QeBDsTQK e DHLeMDQ la lecTUQa cKQQecTa Me TKMKs lKs cKMKnes sDTUaMKs\n",
      "a la MeQecCa Me la Rase anaMDMa.\n",
      "TDaHDnacDTKsDnaaMenDna BUanDnaBUanDnacDTKcDna BUanDnaTDaHDnaaMenDna aMeDnaaMeDnaBUanDna TDaHDnacDTKsDnaBUanDna BUanDnaTDaHDnacDTKsDna BUanDna\n",
      "Me HaneQa analKBa cKn la elDHDnacDKn Me nUcleKTDMKs. TQes elDHDnacDKnes K\n",
      "HUlTDLlKs Me TQes LUeMen cKQQeBDQ la lecTUQa en la sDnTesDs Me Una LQKTeDna\n",
      "acTDva. KTQas evDMencDas DnMDcan NUe el cKMKn es Una secUencDa Me TQes HUcleK-\n",
      "TDMKs Y Me aNUD NUe al cKMDBK BeneTDcK se le cKnKca cKHK Un TQDLleTe K Una\n",
      "TeQcDa. \n"
     ]
    }
   ],
   "source": [
    "cad2 = cad1.replace(\"V\",\"v\")\n",
    "print(cad2) "
   ]
  },
  {
   "cell_type": "markdown",
   "metadata": {},
   "source": [
    "Tenemos ahora Una secUencDa, por ello realizamos la sustitución de U = u y D = i"
   ]
  },
  {
   "cell_type": "code",
   "execution_count": 10,
   "metadata": {},
   "outputs": [
    {
     "name": "stdout",
     "output_type": "stream",
     "text": [
      " MKBHa cenTQal las LQinciLales AunciKnes Mel Mna se QesuHen en el llaHaMK\n",
      "MKBHa cenTQal Me la BeneTica HKleculaQ. el Mna seHLena TanTK una AunciKn\n",
      "auTKcaTaliTica cKHK una AunciKn CeTeQKcaTaliTica TQanscQiLciKn en Qna la TQaMucciKn \n",
      "a LQKTeinas se lleva a caRK cKn HKlMes K LaTQKnes Me QnaH, nunca cKn\n",
      "lKs HKlMes K LaTQKnes Me Mna. lKs Benes lleBan a eXLQesaQse AenKTiLicaHenTe\n",
      "MeRiMK a su caLaciMaM LaQa esLeciAicaQ las esTQucTuQas Me las LQKTeinas\n",
      "RiKlKBicaHenTe acTivas.\n",
      "cKMiBK BeneTicK las QeacciKnes RiKNuiHicas sKn HeMiMas LKQ enZiHas, las cuales sKn TKMas LQKTeinas. las LQKTeinas sKn LKliHeQKs se suRuniMaMMes HKnKHe-\n",
      "QKs MenKHinaMKs aHinKaciMKs, a HenuMK llaHaMKs QesiMuKs. caMa aHinKaciMK\n",
      "1Tiene un BQuLK aHinK nCsuRinMiceMKs en unK Me sus eXTQeHKs Y un BQuLK caQRKXilK\n",
      "cKKC en el KTQK. nKQHalHenTe, se LueMen encKnTQaQ veinTe MiAeQenTes TiLKs\n",
      "Me aHinKaciMKs, en una secuencia esLeciAicaHenTe KQMenaMa. en la secuencia Me\n",
      "nucleKTiMKs Mel Mna se cKMiAica la clave neBaTivK LaQa la LQKMucciKn Me\n",
      "LQKTeinas. al nuHeQK Me nucleKTiMKs Nue LaQa un sKlK aHinKaciMK se le MenKHina cKMKn. CaY veinTe aHinKaciMKs cKHunes, LeQK sKlK cuaTQK nucleKTiMKs\n",
      "MiAeQenTes. KRviaHenTe, un siHLle cKMKn un nucleKTiMK Nue cKMiAica LaQa un\n",
      "aHinKaciMK LueMe cKMiAicaQ sKlK LaQa cuaTQK aHinKaciMKs. un MKRle cKMiBK\n",
      "MKs nucleKTiMKs Nue cKMiAican LaQa un aHinKaciMK LeQHiTe sKlK Mieciseis\n",
      "cKHRinaciKnes. LKQ lK TanTK Y MesMe el LunTK Me visTa HaTeHaTicK, un TQiLle\n",
      "cKMiBK TQes nucleKTiMKs Nue cKMiAican LaQa un aHinKaciMK es la uniMaM Me\n",
      "cKMiAicaciKn Has LeNuena cKMKn caLaZ Me aEusTaQse a lKs veinTe aHinKaciMKs.\n",
      "la eviMencia eXLeQiHenTal Nue aLKYa el cKnceLTK Mel TQiLle cKMiBK Aue LQKLKQciKnaMa LKQ el esTuMiK Me la aMiciKn Me un sKlK LaQ Me Rases sencillas\n",
      "al BQuLK Me enlace sencillK Me un RacTeQiKBQaAK. si la TQanscQiLciKn Me una\n",
      "uniMaM BeneTica AunciKnal cisTQKn Me Mna en QnaH sieHLQe se lee MesMe una\n",
      "LKsiciKn AiEa, enTKnces lKs LQiHeQKs seis cKMKnes Me una caMena Me un cisTQKn\n",
      "Me Mna LKMQia seQ la siBuienTe:\n",
      "TiaHinaciTKsinaaMenina BuaninaBuaninaciTKsina TiaHinaaMeninaaMeina aMeinaBuaninaTiaHina ciTKsinaBuaninaBuanina TiaHinaciTKsinaBuanina\n",
      "la aMiciKn Me una sKla Rase LKQ eEeHLlK Buanina al Ainal Mel seBunMK cKMKn\n",
      "LKMQia MesviaQ K alTeQaQ TKMKs lKs MeHas cKMKnes Me un nucleKTiMK AuQea\n",
      "Mel QeBisTQK e iHLeMiQ la lecTuQa cKQQecTa Me TKMKs lKs cKMKnes siTuaMKs\n",
      "a la MeQecCa Me la Rase anaMiMa.\n",
      "TiaHinaciTKsinaaMenina BuaninaBuaninaciTKcina BuaninaTiaHinaaMenina aMeinaaMeinaBuanina TiaHinaciTKsinaBuanina BuaninaTiaHinaciTKsina Buanina\n",
      "Me HaneQa analKBa cKn la eliHinaciKn Me nucleKTiMKs. TQes eliHinaciKnes K\n",
      "HulTiLlKs Me TQes LueMen cKQQeBiQ la lecTuQa en la sinTesis Me una LQKTeina\n",
      "acTiva. KTQas eviMencias inMican Nue el cKMKn es una secuencia Me TQes HucleK-\n",
      "TiMKs Y Me aNui Nue al cKMiBK BeneTicK se le cKnKca cKHK un TQiLleTe K una\n",
      "TeQcia. \n"
     ]
    }
   ],
   "source": [
    "cad3 = cad2.replace(\"U\",\"u\")\n",
    "cad4 = cad3.replace(\"D\",\"i\")\n",
    "print(cad4)"
   ]
  },
  {
   "cell_type": "code",
   "execution_count": 11,
   "metadata": {},
   "outputs": [
    {
     "name": "stdout",
     "output_type": "stream",
     "text": [
      " MogHa centQal las LQinciLales Aunciones Mel Mna se QesuHen en el llaHaMo\n",
      "MogHa centQal Me la genetica HoleculaQ. el Mna seHLena tanto una Auncion\n",
      "autocatalitica coHo una Auncion CeteQocatalitica tQanscQiLcion en Qna la tQaMuccion \n",
      "a LQoteinas se lleva a caRo con HolMes o LatQones Me QnaH, nunca con\n",
      "los HolMes o LatQones Me Mna. los genes llegan a eXLQesaQse AenotiLicaHente\n",
      "MeRiMo a su caLaciMaM LaQa esLeciAicaQ las estQuctuQas Me las LQoteinas\n",
      "RiologicaHente activas.\n",
      "coMigo genetico las Qeacciones RioNuiHicas son HeMiMas LoQ enZiHas, las cuales son toMas LQoteinas. las LQoteinas son LoliHeQos se suRuniMaMMes HonoHe-\n",
      "Qos MenoHinaMos aHinoaciMos, a HenuMo llaHaMos QesiMuos. caMa aHinoaciMo\n",
      "1tiene un gQuLo aHino nCsuRinMiceMos en uno Me sus eXtQeHos Y un gQuLo caQRoXilo\n",
      "cooC en el otQo. noQHalHente, se LueMen encontQaQ veinte MiAeQentes tiLos\n",
      "Me aHinoaciMos, en una secuencia esLeciAicaHente oQMenaMa. en la secuencia Me\n",
      "nucleotiMos Mel Mna se coMiAica la clave negativo LaQa la LQoMuccion Me\n",
      "LQoteinas. al nuHeQo Me nucleotiMos Nue LaQa un solo aHinoaciMo se le MenoHina coMon. CaY veinte aHinoaciMos coHunes, LeQo solo cuatQo nucleotiMos\n",
      "MiAeQentes. oRviaHente, un siHLle coMon un nucleotiMo Nue coMiAica LaQa un\n",
      "aHinoaciMo LueMe coMiAicaQ solo LaQa cuatQo aHinoaciMos. un MoRle coMigo\n",
      "Mos nucleotiMos Nue coMiAican LaQa un aHinoaciMo LeQHite solo Mieciseis\n",
      "coHRinaciones. LoQ lo tanto Y MesMe el Lunto Me vista HateHatico, un tQiLle\n",
      "coMigo tQes nucleotiMos Nue coMiAican LaQa un aHinoaciMo es la uniMaM Me\n",
      "coMiAicacion Has LeNuena coMon caLaZ Me aEustaQse a los veinte aHinoaciMos.\n",
      "la eviMencia eXLeQiHental Nue aLoYa el conceLto Mel tQiLle coMigo Aue LQoLoQcionaMa LoQ el estuMio Me la aMicion Me un solo LaQ Me Rases sencillas\n",
      "al gQuLo Me enlace sencillo Me un RacteQiogQaAo. si la tQanscQiLcion Me una\n",
      "uniMaM genetica Auncional cistQon Me Mna en QnaH sieHLQe se lee MesMe una\n",
      "Losicion AiEa, entonces los LQiHeQos seis coMones Me una caMena Me un cistQon\n",
      "Me Mna LoMQia seQ la siguiente:\n",
      "tiaHinacitosinaaMenina guaninaguaninacitosina tiaHinaaMeninaaMeina aMeinaguaninatiaHina citosinaguaninaguanina tiaHinacitosinaguanina\n",
      "la aMicion Me una sola Rase LoQ eEeHLlo guanina al Ainal Mel segunMo coMon\n",
      "LoMQia MesviaQ o alteQaQ toMos los MeHas coMones Me un nucleotiMo AuQea\n",
      "Mel QegistQo e iHLeMiQ la lectuQa coQQecta Me toMos los coMones situaMos\n",
      "a la MeQecCa Me la Rase anaMiMa.\n",
      "tiaHinacitosinaaMenina guaninaguaninacitocina guaninatiaHinaaMenina aMeinaaMeinaguanina tiaHinacitosinaguanina guaninatiaHinacitosina guanina\n",
      "Me HaneQa analoga con la eliHinacion Me nucleotiMos. tQes eliHinaciones o\n",
      "HultiLlos Me tQes LueMen coQQegiQ la lectuQa en la sintesis Me una LQoteina\n",
      "activa. otQas eviMencias inMican Nue el coMon es una secuencia Me tQes Hucleo-\n",
      "tiMos Y Me aNui Nue al coMigo genetico se le conoca coHo un tQiLlete o una\n",
      "teQcia. \n"
     ]
    }
   ],
   "source": [
    "cad5 = cad4.replace(\"T\",\"t\")\n",
    "cad6 = cad5.replace(\"K\",\"o\")\n",
    "cad7 = cad6.replace(\"B\",\"g\")\n",
    "print(cad7)"
   ]
  },
  {
   "cell_type": "markdown",
   "metadata": {},
   "source": [
    "Dadas las sustituciones podemos deducir que -Auncional- nos da que A = f y que eliHinaciones implica que H = m y que la palabra lectuQa implica que q = R"
   ]
  },
  {
   "cell_type": "code",
   "execution_count": 12,
   "metadata": {},
   "outputs": [
    {
     "name": "stdout",
     "output_type": "stream",
     "text": [
      " dogma central las LrinciLales funciones del dna se resumen en el llamado\n",
      "dogma central de la genetica molecular. el dna semLena tanto una funcion\n",
      "autocatalitica como una funcion Ceterocatalitica transcriLcion en rna la traduccion \n",
      "a Lroteinas se lleva a caRo con moldes o Latrones de rnam, nunca con\n",
      "los moldes o Latrones de dna. los genes llegan a eXLresarse fenotiLicamente\n",
      "deRido a su caLacidad Lara esLecificar las estructuras de las Lroteinas\n",
      "Riologicamente activas.\n",
      "codigo genetico las reacciones RioNuimicas son medidas Lor enZimas, las cuales son todas Lroteinas. las Lroteinas son Lolimeros se suRunidaddes monome-\n",
      "ros denominados aminoacidos, a menudo llamados residuos. cada aminoacido\n",
      "1tiene un gruLo amino nCsuRindicedos en uno de sus eXtremos Y un gruLo carRoXilo\n",
      "cooC en el otro. normalmente, se Lueden encontrar veinte diferentes tiLos\n",
      "de aminoacidos, en una secuencia esLecificamente ordenada. en la secuencia de\n",
      "nucleotidos del dna se codifica la clave negativo Lara la Lroduccion de\n",
      "Lroteinas. al numero de nucleotidos Nue Lara un solo aminoacido se le denomina codon. CaY veinte aminoacidos comunes, Lero solo cuatro nucleotidos\n",
      "diferentes. oRviamente, un simLle codon un nucleotido Nue codifica Lara un\n",
      "aminoacido Luede codificar solo Lara cuatro aminoacidos. un doRle codigo\n",
      "dos nucleotidos Nue codifican Lara un aminoacido Lermite solo dieciseis\n",
      "comRinaciones. Lor lo tanto Y desde el Lunto de vista matematico, un triLle\n",
      "codigo tres nucleotidos Nue codifican Lara un aminoacido es la unidad de\n",
      "codificacion mas LeNuena codon caLaZ de aEustarse a los veinte aminoacidos.\n",
      "la evidencia eXLerimental Nue aLoYa el conceLto del triLle codigo fue LroLorcionada Lor el estudio de la adicion de un solo Lar de Rases sencillas\n",
      "al gruLo de enlace sencillo de un Racteriografo. si la transcriLcion de una\n",
      "unidad genetica funcional cistron de dna en rnam siemLre se lee desde una\n",
      "Losicion fiEa, entonces los Lrimeros seis codones de una cadena de un cistron\n",
      "de dna Lodria ser la siguiente:\n",
      "tiaminacitosinaadenina guaninaguaninacitosina tiaminaadeninaadeina adeinaguaninatiamina citosinaguaninaguanina tiaminacitosinaguanina\n",
      "la adicion de una sola Rase Lor eEemLlo guanina al final del segundo codon\n",
      "Lodria desviar o alterar todos los demas codones de un nucleotido furea\n",
      "del registro e imLedir la lectura correcta de todos los codones situados\n",
      "a la derecCa de la Rase anadida.\n",
      "tiaminacitosinaadenina guaninaguaninacitocina guaninatiaminaadenina adeinaadeinaguanina tiaminacitosinaguanina guaninatiaminacitosina guanina\n",
      "de manera analoga con la eliminacion de nucleotidos. tres eliminaciones o\n",
      "multiLlos de tres Lueden corregir la lectura en la sintesis de una Lroteina\n",
      "activa. otras evidencias indican Nue el codon es una secuencia de tres mucleo-\n",
      "tidos Y de aNui Nue al codigo genetico se le conoca como un triLlete o una\n",
      "tercia. \n"
     ]
    }
   ],
   "source": [
    "cad8 = cad7.replace(\"A\",\"f\").replace(\"M\",\"d\")\n",
    "cad9 = cad8.replace(\"H\",\"m\")\n",
    "cad10 = cad9.replace(\"Q\",\"r\")\n",
    "print(cad10)"
   ]
  },
  {
   "cell_type": "code",
   "execution_count": 13,
   "metadata": {},
   "outputs": [],
   "source": [
    "from collections import Counter\n",
    "TextoCifrado = \"\"\" MKBHP IOJTQPG GPS LQDJIDLPGOS AUJIDKJOS MOG MJP SO QOSUHOJ OJ OG GGPHPMK\n",
    "MKBHP IOJTQPG MO GP BOJOTDIP HKGOIUGPQ. OG MJP SOHLOJP TPJTK UJP AUJIDKJ\n",
    "PUTKIPTPGDTDIP IKHK UJP AUJIDKJ COTOQKIPTPGDTDIP TQPJSIQDLIDKJ OJ QJP GP TQPMUIIDKJ \n",
    "P LQKTODJPS SO GGOVP P IPRK IKJ HKGMOS K LPTQKJOS MO QJPH, JUJIP IKJ\n",
    "GKS HKGMOS K LPTQKJOS MO MJP. GKS BOJOS GGOBPJ P OXLQOSPQSO AOJKTDLDIPHOJTO\n",
    "MORDMK P SU IPLPIDMPM LPQP OSLOIDADIPQ GPS OSTQUITUQPS MO GPS LQKTODJPS\n",
    "RDKGKBDIPHOJTO PITDVPS.\n",
    "IKMDBK BOJOTDIK GPS QOPIIDKJOS RDKNUDHDIPS SKJ HOMDMPS LKQ OJZDHPS, GPS IUPGOS SKJ TKMPS LQKTODJPS. GPS LQKTODJPS SKJ LKGDHOQKS SO SURUJDMPMMOS HKJKHO-\n",
    "QKS MOJKHDJPMKS PHDJKPIDMKS, P HOJUMK GGPHPMKS QOSDMUKS. IPMP PHDJKPIDMK\n",
    "1TDOJO UJ BQULK PHDJK JCSURDJMDIOMKS OJ UJK MO SUS OXTQOHKS Y UJ BQULK IPQRKXDGK\n",
    "IKKC OJ OG KTQK. JKQHPGHOJTO, SO LUOMOJ OJIKJTQPQ VODJTO MDAOQOJTOS TDLKS\n",
    "MO PHDJKPIDMKS, OJ UJP SOIUOJIDP OSLOIDADIPHOJTO KQMOJPMP. OJ GP SOIUOJIDP MO\n",
    "JUIGOKTDMKS MOG MJP SO IKMDADIP GP IGPVO JOBPTDVK LPQP GP LQKMUIIDKJ MO\n",
    "LQKTODJPS. PG JUHOQK MO JUIGOKTDMKS NUO LPQP UJ SKGK PHDJKPIDMK SO GO MOJKHDJP IKMKJ. CPY VODJTO PHDJKPIDMKS IKHUJOS, LOQK SKGK IUPTQK JUIGOKTDMKS\n",
    "MDAOQOJTOS. KRVDPHOJTO, UJ SDHLGO IKMKJ UJ JUIGOKTDMK NUO IKMDADIP LPQP UJ\n",
    "PHDJKPIDMK LUOMO IKMDADIPQ SKGK LPQP IUPTQK PHDJKPIDMKS. UJ MKRGO IKMDBK\n",
    "MKS JUIGOKTDMKS NUO IKMDADIPJ LPQP UJ PHDJKPIDMK LOQHDTO SKGK MDOIDSODS\n",
    "IKHRDJPIDKJOS. LKQ GK TPJTK Y MOSMO OG LUJTK MO VDSTP HPTOHPTDIK, UJ TQDLGO\n",
    "IKMDBK TQOS JUIGOKTDMKS NUO IKMDADIPJ LPQP UJ PHDJKPIDMK OS GP UJDMPM MO\n",
    "IKMDADIPIDKJ HPS LONUOJP IKMKJ IPLPZ MO PEUSTPQSO P GKS VODJTO PHDJKPIDMKS.\n",
    "GP OVDMOJIDP OXLOQDHOJTPG NUO PLKYP OG IKJIOLTK MOG TQDLGO IKMDBK AUO LQKLKQIDKJPMP LKQ OG OSTUMDK MO GP PMDIDKJ MO UJ SKGK LPQ MO RPSOS SOJIDGGPS\n",
    "PG BQULK MO OJGPIO SOJIDGGK MO UJ RPITOQDKBQPAK. SD GP TQPJSIQDLIDKJ MO UJP\n",
    "UJDMPM BOJOTDIP AUJIDKJPG IDSTQKJ MO MJP OJ QJPH SDOHLQO SO GOO MOSMO UJP\n",
    "LKSDIDKJ ADEP, OJTKJIOS GKS LQDHOQKS SODS IKMKJOS MO UJP IPMOJP MO UJ IDSTQKJ\n",
    "MO MJP LKMQDP SOQ GP SDBUDOJTO:\n",
    "TDPHDJPIDTKSDJPPMOJDJP BUPJDJPBUPJDJPIDTKSDJP TDPHDJPPMOJDJPPMODJP PMODJPBUPJDJPTDPHDJP IDTKSDJPBUPJDJPBUPJDJP TDPHDJPIDTKSDJPBUPJDJP\n",
    "GP PMDIDKJ MO UJP SKGP RPSO LKQ OEOHLGK BUPJDJP PG ADJPG MOG SOBUJMK IKMKJ\n",
    "LKMQDP MOSVDPQ K PGTOQPQ TKMKS GKS MOHPS IKMKJOS MO UJ JUIGOKTDMK AUQOP\n",
    "MOG QOBDSTQK O DHLOMDQ GP GOITUQP IKQQOITP MO TKMKS GKS IKMKJOS SDTUPMKS\n",
    "P GP MOQOICP MO GP RPSO PJPMDMP.\n",
    "TDPHDJPIDTKSDJPPMOJDJP BUPJDJPBUPJDJPIDTKIDJP BUPJDJPTDPHDJPPMOJDJP PMODJPPMODJPBUPJDJP TDPHDJPIDTKSDJPBUPJDJP BUPJDJPTDPHDJPIDTKSDJP BUPJDJP\n",
    "MO HPJOQP PJPGKBP IKJ GP OGDHDJPIDKJ MO JUIGOKTDMKS. TQOS OGDHDJPIDKJOS K\n",
    "HUGTDLGKS MO TQOS LUOMOJ IKQQOBDQ GP GOITUQP OJ GP SDJTOSDS MO UJP LQKTODJP\n",
    "PITDVP. KTQPS OVDMOJIDPS DJMDIPJ NUO OG IKMKJ OS UJP SOIUOJIDP MO TQOS HUIGOK-\n",
    "TDMKS Y MO PNUD NUO PG IKMDBK BOJOTDIK SO GO IKJKIP IKHK UJ TQDLGOTO K UJP\n",
    "TOQIDP. \"\"\""
   ]
  },
  {
   "cell_type": "markdown",
   "metadata": {},
   "source": [
    "Teniendo todo el análisis del cifrado monoalfabetico obtenemos que las sutituciones deben ser las siguientes:\n",
    "\n",
    "$$P -> a$$\n",
    "$$ R -> b$$\n",
    "$$ I -> c$$\n",
    "\n",
    "etc..."
   ]
  },
  {
   "cell_type": "code",
   "execution_count": 14,
   "metadata": {},
   "outputs": [
    {
     "name": "stdout",
     "output_type": "stream",
     "text": [
      " dogma central las principales funciones del dna se resumen en el llamado\n",
      "dogma central de la genetica molecular. el dna sempena tanto una funcion\n",
      "autocatalitica como una funcion heterocatalitica transcripcion en rna la traduccion \n",
      "a proteinas se lleva a cabo con moldes o patrones de rnam, nunca con\n",
      "los moldes o patrones de dna. los genes llegan a expresarse fenotipicamente\n",
      "debido a su capacidad para especificar las estructuras de las proteinas\n",
      "biologicamente activas.\n",
      "codigo genetico las reacciones bioquimicas son medidas por enzimas, las cuales son todas proteinas. las proteinas son polimeros se subunidaddes monome-\n",
      "ros denominados aminoacidos, a menudo llamados residuos. cada aminoacido\n",
      "1tiene un grupo amino nhsubindicedos en uno de sus extremos y un grupo carboxilo\n",
      "cooh en el otro. normalmente, se pueden encontrar veinte diferentes tipos\n",
      "de aminoacidos, en una secuencia especificamente ordenada. en la secuencia de\n",
      "nucleotidos del dna se codifica la clave negativo para la produccion de\n",
      "proteinas. al numero de nucleotidos que para un solo aminoacido se le denomina codon. hay veinte aminoacidos comunes, pero solo cuatro nucleotidos\n",
      "diferentes. obviamente, un simple codon un nucleotido que codifica para un\n",
      "aminoacido puede codificar solo para cuatro aminoacidos. un doble codigo\n",
      "dos nucleotidos que codifican para un aminoacido permite solo dieciseis\n",
      "combinaciones. por lo tanto y desde el punto de vista matematico, un triple\n",
      "codigo tres nucleotidos que codifican para un aminoacido es la unidad de\n",
      "codificacion mas pequena codon capaz de ajustarse a los veinte aminoacidos.\n",
      "la evidencia experimental que apoya el concepto del triple codigo fue proporcionada por el estudio de la adicion de un solo par de bases sencillas\n",
      "al grupo de enlace sencillo de un bacteriografo. si la transcripcion de una\n",
      "unidad genetica funcional cistron de dna en rnam siempre se lee desde una\n",
      "posicion fija, entonces los primeros seis codones de una cadena de un cistron\n",
      "de dna podria ser la siguiente:\n",
      "tiaminacitosinaadenina guaninaguaninacitosina tiaminaadeninaadeina adeinaguaninatiamina citosinaguaninaguanina tiaminacitosinaguanina\n",
      "la adicion de una sola base por ejemplo guanina al final del segundo codon\n",
      "podria desviar o alterar todos los demas codones de un nucleotido furea\n",
      "del registro e impedir la lectura correcta de todos los codones situados\n",
      "a la derecha de la base anadida.\n",
      "tiaminacitosinaadenina guaninaguaninacitocina guaninatiaminaadenina adeinaadeinaguanina tiaminacitosinaguanina guaninatiaminacitosina guanina\n",
      "de manera analoga con la eliminacion de nucleotidos. tres eliminaciones o\n",
      "multiplos de tres pueden corregir la lectura en la sintesis de una proteina\n",
      "activa. otras evidencias indican que el codon es una secuencia de tres mucleo-\n",
      "tidos y de aqui que al codigo genetico se le conoca como un triplete o una\n",
      "tercia. \n"
     ]
    }
   ],
   "source": [
    "TextoD = TextoCifrado.replace(\"P\",\"a\").replace(\"R\",\"b\").replace(\"I\",\"c\").replace(\"M\",\"d\").replace(\"O\",\"e\").replace(\"A\",\"f\").replace(\"B\",\"g\").replace(\"C\",\"h\").replace(\"D\",\"i\").replace(\"E\",\"j\").replace(\"F\",\"k\").replace(\"G\",\"l\").replace(\"H\",\"m\").replace(\"J\",\"n\").replace(\"K\",\"o\").replace(\"L\",\"p\").replace(\"N\",\"q\").replace(\"Q\",\"r\").replace(\"S\",\"s\").replace(\"T\",\"t\").replace(\"U\",\"u\").replace(\"V\",\"v\").replace(\"W\",\"w\").replace(\"X\",\"x\").replace(\"Y\",\"y\").replace(\"Z\",\"z\")\n",
    "print(TextoD)"
   ]
  }
 ],
 "metadata": {
  "kernelspec": {
   "display_name": "Python 3",
   "language": "python",
   "name": "python3"
  },
  "language_info": {
   "codemirror_mode": {
    "name": "ipython",
    "version": 3
   },
   "file_extension": ".py",
   "mimetype": "text/x-python",
   "name": "python",
   "nbconvert_exporter": "python",
   "pygments_lexer": "ipython3",
   "version": "3.8.3"
  }
 },
 "nbformat": 4,
 "nbformat_minor": 4
}
