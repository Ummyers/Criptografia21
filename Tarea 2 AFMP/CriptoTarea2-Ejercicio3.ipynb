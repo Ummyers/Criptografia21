{
 "cells": [
  {
   "cell_type": "markdown",
   "metadata": {},
   "source": [
    "# Ejercicio 3 Descifrar el mesaje desde el criptosistema ElGammal"
   ]
  },
  {
   "cell_type": "markdown",
   "metadata": {},
   "source": [
    "G(163,3,19) entonces $p=163, \\alpha = 3, \\alpha ^a = 19$ y tenemos mensajes de tipo $(\\gamma,\\delta)$, para descifrar hay que calcular $\\gamma^{p-1-a}$ "
   ]
  },
  {
   "cell_type": "markdown",
   "metadata": {},
   "source": [
    "Calculando el valor de $a$ en la ecuación $3^a$ mod $163 = 19$ con fuerza bruta\n"
   ]
  },
  {
   "cell_type": "code",
   "execution_count": 14,
   "metadata": {},
   "outputs": [
    {
     "name": "stdout",
     "output_type": "stream",
     "text": [
      "Iteración  1 resultado 3\n",
      "Iteración  2 resultado 9\n",
      "Iteración  3 resultado 27\n",
      "Iteración  4 resultado 81\n",
      "Iteración  5 resultado 80\n",
      "Iteración  6 resultado 77\n",
      "Iteración  7 resultado 68\n",
      "Iteración  8 resultado 41\n",
      "Iteración  9 resultado 123\n",
      "Iteración  10 resultado 43\n",
      "Iteración  11 resultado 129\n",
      "Iteración  12 resultado 61\n",
      "Iteración  13 resultado 20\n",
      "Iteración  14 resultado 60\n",
      "Iteración  15 resultado 17\n",
      "Iteración  16 resultado 51\n",
      "Iteración  17 resultado 153\n",
      "Iteración  18 resultado 133\n",
      "Iteración  19 resultado 73\n",
      "Iteración  20 resultado 56\n",
      "Iteración  21 resultado 5\n",
      "Iteración  22 resultado 15\n",
      "Iteración  23 resultado 45\n",
      "Iteración  24 resultado 135\n",
      "Iteración  25 resultado 79\n",
      "Iteración  26 resultado 74\n",
      "Iteración  27 resultado 59\n",
      "Iteración  28 resultado 14\n",
      "Iteración  29 resultado 42\n",
      "Iteración  30 resultado 126\n",
      "Iteración  31 resultado 52\n",
      "Iteración  32 resultado 156\n",
      "Iteración  33 resultado 142\n",
      "Iteración  34 resultado 100\n",
      "Iteración  35 resultado 137\n",
      "Iteración  36 resultado 85\n",
      "Iteración  37 resultado 92\n",
      "Iteración  38 resultado 113\n",
      "Iteración  39 resultado 13\n",
      "Iteración  40 resultado 39\n",
      "Iteración  41 resultado 117\n",
      "Iteración  42 resultado 25\n",
      "Iteración  43 resultado 75\n",
      "Iteración  44 resultado 62\n",
      "Iteración  45 resultado 23\n",
      "Iteración  46 resultado 69\n",
      "Iteración  47 resultado 44\n",
      "Iteración  48 resultado 132\n",
      "Iteración  49 resultado 70\n",
      "Iteración  50 resultado 47\n",
      "Iteración  51 resultado 141\n",
      "Iteración  52 resultado 97\n",
      "Iteración  53 resultado 128\n",
      "Iteración  54 resultado 58\n",
      "Iteración  55 resultado 11\n",
      "Iteración  56 resultado 33\n",
      "Iteración  57 resultado 99\n",
      "Iteración  58 resultado 134\n",
      "Iteración  59 resultado 76\n",
      "Iteración  60 resultado 65\n",
      "Iteración  61 resultado 32\n",
      "Iteración  62 resultado 96\n",
      "Iteración  63 resultado 125\n",
      "Iteración  64 resultado 49\n",
      "Iteración  65 resultado 147\n",
      "Iteración  66 resultado 115\n",
      "Iteración  67 resultado 19\n",
      "Iteración  68 resultado 57\n",
      "Iteración  69 resultado 8\n",
      "Iteración  70 resultado 24\n",
      "Iteración  71 resultado 72\n",
      "Iteración  72 resultado 53\n",
      "Iteración  73 resultado 159\n",
      "Iteración  74 resultado 151\n",
      "Iteración  75 resultado 127\n",
      "Iteración  76 resultado 55\n",
      "Iteración  77 resultado 2\n",
      "Iteración  78 resultado 6\n",
      "Iteración  79 resultado 18\n",
      "Iteración  80 resultado 54\n",
      "Iteración  81 resultado 162\n",
      "Iteración  82 resultado 160\n",
      "Iteración  83 resultado 154\n",
      "Iteración  84 resultado 136\n",
      "Iteración  85 resultado 82\n",
      "Iteración  86 resultado 83\n",
      "Iteración  87 resultado 86\n",
      "Iteración  88 resultado 95\n",
      "Iteración  89 resultado 122\n",
      "Iteración  90 resultado 40\n",
      "Iteración  91 resultado 120\n",
      "Iteración  92 resultado 34\n",
      "Iteración  93 resultado 102\n",
      "Iteración  94 resultado 143\n",
      "Iteración  95 resultado 103\n",
      "Iteración  96 resultado 146\n",
      "Iteración  97 resultado 112\n",
      "Iteración  98 resultado 10\n",
      "Iteración  99 resultado 30\n",
      "Iteración  100 resultado 90\n",
      "Iteración  101 resultado 107\n",
      "Iteración  102 resultado 158\n",
      "Iteración  103 resultado 148\n",
      "Iteración  104 resultado 118\n",
      "Iteración  105 resultado 28\n",
      "Iteración  106 resultado 84\n",
      "Iteración  107 resultado 89\n",
      "Iteración  108 resultado 104\n",
      "Iteración  109 resultado 149\n",
      "Iteración  110 resultado 121\n",
      "Iteración  111 resultado 37\n",
      "Iteración  112 resultado 111\n",
      "Iteración  113 resultado 7\n",
      "Iteración  114 resultado 21\n",
      "Iteración  115 resultado 63\n",
      "Iteración  116 resultado 26\n",
      "Iteración  117 resultado 78\n",
      "Iteración  118 resultado 71\n",
      "Iteración  119 resultado 50\n",
      "Iteración  120 resultado 150\n",
      "Iteración  121 resultado 124\n",
      "Iteración  122 resultado 46\n",
      "Iteración  123 resultado 138\n",
      "Iteración  124 resultado 88\n",
      "Iteración  125 resultado 101\n",
      "Iteración  126 resultado 140\n",
      "Iteración  127 resultado 94\n",
      "Iteración  128 resultado 119\n",
      "Iteración  129 resultado 31\n",
      "Iteración  130 resultado 93\n",
      "Iteración  131 resultado 116\n",
      "Iteración  132 resultado 22\n",
      "Iteración  133 resultado 66\n",
      "Iteración  134 resultado 35\n",
      "Iteración  135 resultado 105\n",
      "Iteración  136 resultado 152\n",
      "Iteración  137 resultado 130\n",
      "Iteración  138 resultado 64\n",
      "Iteración  139 resultado 29\n",
      "Iteración  140 resultado 87\n",
      "Iteración  141 resultado 98\n",
      "Iteración  142 resultado 131\n",
      "Iteración  143 resultado 67\n",
      "Iteración  144 resultado 38\n",
      "Iteración  145 resultado 114\n",
      "Iteración  146 resultado 16\n",
      "Iteración  147 resultado 48\n",
      "Iteración  148 resultado 144\n",
      "Iteración  149 resultado 106\n",
      "Iteración  150 resultado 155\n",
      "Iteración  151 resultado 139\n",
      "Iteración  152 resultado 91\n",
      "Iteración  153 resultado 110\n",
      "Iteración  154 resultado 4\n",
      "Iteración  155 resultado 12\n",
      "Iteración  156 resultado 36\n",
      "Iteración  157 resultado 108\n",
      "Iteración  158 resultado 161\n",
      "Iteración  159 resultado 157\n",
      "Iteración  160 resultado 145\n",
      "Iteración  161 resultado 109\n",
      "Iteración  162 resultado 1\n"
     ]
    }
   ],
   "source": [
    "for i in range (1,163):\n",
    "    res = 3**i % 163\n",
    "    print(\"Iteración \",i ,\"resultado\", res)"
   ]
  },
  {
   "cell_type": "markdown",
   "metadata": {},
   "source": [
    "Obteniendo así que el valor de $a = 67$"
   ]
  },
  {
   "cell_type": "markdown",
   "metadata": {},
   "source": [
    "Ahora que tenemos el valor de $a$ podemos descifrar cada uno de los mensajes, puesto que son de la forma: \n",
    "\n",
    "$$ M = \\gamma^{p-1-1} * \\delta \\text{ mod } p $$ y a continuación tenemos una función que lo hará, pues ya conocemos todos los valores para poder hacer el calculo."
   ]
  },
  {
   "cell_type": "markdown",
   "metadata": {},
   "source": [
    "## Función para calcular $r$ en una ecuación de la forma\n",
    "\n",
    " $$b^a mod p = r$$\n",
    "\n",
    "\n",
    "Es decir, que esta función nos sirve para descifrar en el sistema de ElGammal"
   ]
  },
  {
   "cell_type": "code",
   "execution_count": 6,
   "metadata": {},
   "outputs": [],
   "source": [
    "\"\"\"\n",
    "Función llamada mensajeXY que calcula el valor en número del mensaje codificado en ASCII del 65 al 90\n",
    "donde la ñ se toma como n \n",
    "\n",
    "El mensaje esta codificado y representado por una pareja ordenada de la forma (x,y)\n",
    "\n",
    "x: entero\n",
    "primer número de la codificación del mensaje\n",
    "\n",
    "y: entero\n",
    "segundo número de la codificación del mensaje\n",
    "\n",
    "p: entero\n",
    "número primo que se tiene como llave pública\n",
    "\n",
    "a: entero\n",
    "llave privada del intercambio de mensajes\n",
    "\n",
    "\"\"\"\n",
    "\n",
    "def mensajeXY(x,y,p,a):\n",
    "    m = x**(p-1-a) * y % p\n",
    "    return m\n"
   ]
  },
  {
   "cell_type": "code",
   "execution_count": 7,
   "metadata": {},
   "outputs": [
    {
     "data": {
      "text/plain": [
       "2035"
      ]
     },
     "execution_count": 7,
     "metadata": {},
     "output_type": "execute_result"
    }
   ],
   "source": [
    "mensajeXY(1430,697,2357,1751)"
   ]
  },
  {
   "cell_type": "markdown",
   "metadata": {},
   "source": [
    "Para el caso especial del ejercicio 3 de la tarea 2 tenemos la siguiente función.\n"
   ]
  },
  {
   "cell_type": "code",
   "execution_count": 27,
   "metadata": {},
   "outputs": [],
   "source": [
    "def mensajeXY3(x,y):\n",
    "    m = (x**(95)) * y  % 163\n",
    "    return m"
   ]
  },
  {
   "cell_type": "code",
   "execution_count": 31,
   "metadata": {},
   "outputs": [
    {
     "data": {
      "text/plain": [
       "69"
      ]
     },
     "execution_count": 31,
     "metadata": {},
     "output_type": "execute_result"
    }
   ],
   "source": [
    "mensajeXY3(7,27)"
   ]
  },
  {
   "cell_type": "code",
   "execution_count": 32,
   "metadata": {},
   "outputs": [
    {
     "data": {
      "text/plain": [
       "83"
      ]
     },
     "execution_count": 32,
     "metadata": {},
     "output_type": "execute_result"
    }
   ],
   "source": [
    "mensajeXY3(7,75)"
   ]
  },
  {
   "cell_type": "code",
   "execution_count": 33,
   "metadata": {},
   "outputs": [
    {
     "data": {
      "text/plain": [
       "84"
      ]
     },
     "execution_count": 33,
     "metadata": {},
     "output_type": "execute_result"
    }
   ],
   "source": [
    "mensajeXY3(7,125)"
   ]
  },
  {
   "cell_type": "code",
   "execution_count": 34,
   "metadata": {},
   "outputs": [
    {
     "data": {
      "text/plain": [
       "79"
      ]
     },
     "execution_count": 34,
     "metadata": {},
     "output_type": "execute_result"
    }
   ],
   "source": [
    "mensajeXY3(7,38)"
   ]
  },
  {
   "cell_type": "code",
   "execution_count": 35,
   "metadata": {},
   "outputs": [
    {
     "data": {
      "text/plain": [
       "69"
      ]
     },
     "execution_count": 35,
     "metadata": {},
     "output_type": "execute_result"
    }
   ],
   "source": [
    "mensajeXY3(5,108)"
   ]
  },
  {
   "cell_type": "code",
   "execution_count": 36,
   "metadata": {},
   "outputs": [
    {
     "data": {
      "text/plain": [
       "83"
      ]
     },
     "execution_count": 36,
     "metadata": {},
     "output_type": "execute_result"
    }
   ],
   "source": [
    "mensajeXY3(5,137)"
   ]
  },
  {
   "cell_type": "code",
   "execution_count": 37,
   "metadata": {},
   "outputs": [
    {
     "data": {
      "text/plain": [
       "85"
      ]
     },
     "execution_count": 37,
     "metadata": {},
     "output_type": "execute_result"
    }
   ],
   "source": [
    "mensajeXY3(7,12)"
   ]
  },
  {
   "cell_type": "code",
   "execution_count": 38,
   "metadata": {},
   "outputs": [
    {
     "data": {
      "text/plain": [
       "78"
      ]
     },
     "execution_count": 38,
     "metadata": {},
     "output_type": "execute_result"
    }
   ],
   "source": [
    "mensajeXY3(7,151)"
   ]
  },
  {
   "cell_type": "code",
   "execution_count": 39,
   "metadata": {},
   "outputs": [
    {
     "data": {
      "text/plain": [
       "65"
      ]
     },
     "execution_count": 39,
     "metadata": {},
     "output_type": "execute_result"
    }
   ],
   "source": [
    "mensajeXY3(7,153)"
   ]
  },
  {
   "cell_type": "code",
   "execution_count": 40,
   "metadata": {},
   "outputs": [
    {
     "data": {
      "text/plain": [
       "82"
      ]
     },
     "execution_count": 40,
     "metadata": {},
     "output_type": "execute_result"
    }
   ],
   "source": [
    "mensajeXY3(7,25)"
   ]
  },
  {
   "cell_type": "code",
   "execution_count": 41,
   "metadata": {},
   "outputs": [
    {
     "data": {
      "text/plain": [
       "69"
      ]
     },
     "execution_count": 41,
     "metadata": {},
     "output_type": "execute_result"
    }
   ],
   "source": [
    "mensajeXY3(11,80)"
   ]
  },
  {
   "cell_type": "code",
   "execution_count": 42,
   "metadata": {},
   "outputs": [
    {
     "data": {
      "text/plain": [
       "67"
      ]
     },
     "execution_count": 42,
     "metadata": {},
     "output_type": "execute_result"
    }
   ],
   "source": [
    "mensajeXY3(7,90)"
   ]
  },
  {
   "cell_type": "code",
   "execution_count": 43,
   "metadata": {},
   "outputs": [
    {
     "data": {
      "text/plain": [
       "79"
      ]
     },
     "execution_count": 43,
     "metadata": {},
     "output_type": "execute_result"
    }
   ],
   "source": [
    "mensajeXY3(5,152)"
   ]
  },
  {
   "cell_type": "code",
   "execution_count": 44,
   "metadata": {},
   "outputs": [
    {
     "data": {
      "text/plain": [
       "77"
      ]
     },
     "execution_count": 44,
     "metadata": {},
     "output_type": "execute_result"
    }
   ],
   "source": [
    "mensajeXY3(7,101)"
   ]
  },
  {
   "cell_type": "code",
   "execution_count": 45,
   "metadata": {},
   "outputs": [
    {
     "data": {
      "text/plain": [
       "80"
      ]
     },
     "execution_count": 45,
     "metadata": {},
     "output_type": "execute_result"
    }
   ],
   "source": [
    "mensajeXY3(7,88)"
   ]
  },
  {
   "cell_type": "code",
   "execution_count": 46,
   "metadata": {},
   "outputs": [
    {
     "data": {
      "text/plain": [
       "69"
      ]
     },
     "execution_count": 46,
     "metadata": {},
     "output_type": "execute_result"
    }
   ],
   "source": [
    "mensajeXY3(2,5)"
   ]
  },
  {
   "cell_type": "code",
   "execution_count": 47,
   "metadata": {},
   "outputs": [
    {
     "data": {
      "text/plain": [
       "78"
      ]
     },
     "execution_count": 47,
     "metadata": {},
     "output_type": "execute_result"
    }
   ],
   "source": [
    "mensajeXY3(5,115)"
   ]
  },
  {
   "cell_type": "code",
   "execution_count": 48,
   "metadata": {},
   "outputs": [
    {
     "data": {
      "text/plain": [
       "83"
      ]
     },
     "execution_count": 48,
     "metadata": {},
     "output_type": "execute_result"
    }
   ],
   "source": [
    "mensajeXY3(11,23)"
   ]
  },
  {
   "cell_type": "code",
   "execution_count": 49,
   "metadata": {},
   "outputs": [
    {
     "data": {
      "text/plain": [
       "65"
      ]
     },
     "execution_count": 49,
     "metadata": {},
     "output_type": "execute_result"
    }
   ],
   "source": [
    "mensajeXY3(5,123)"
   ]
  },
  {
   "cell_type": "markdown",
   "metadata": {},
   "source": [
    "Con la siguiente tabla de ASCII obtenemos el mensaje descifrado"
   ]
  },
  {
   "cell_type": "markdown",
   "metadata": {},
   "source": [
    "![title](boo.png)"
   ]
  },
  {
   "cell_type": "markdown",
   "metadata": {},
   "source": [
    "### El mensaje descifrado es: Esto es una recompensa"
   ]
  }
 ],
 "metadata": {
  "kernelspec": {
   "display_name": "Python 3",
   "language": "python",
   "name": "python3"
  },
  "language_info": {
   "codemirror_mode": {
    "name": "ipython",
    "version": 3
   },
   "file_extension": ".py",
   "mimetype": "text/x-python",
   "name": "python",
   "nbconvert_exporter": "python",
   "pygments_lexer": "ipython3",
   "version": "3.8.3"
  }
 },
 "nbformat": 4,
 "nbformat_minor": 4
}
