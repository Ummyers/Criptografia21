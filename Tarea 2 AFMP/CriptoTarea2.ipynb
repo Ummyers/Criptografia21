{
 "cells": [
  {
   "cell_type": "markdown",
   "metadata": {},
   "source": [
    "# Ejercicio 1\n",
    "## a) \n",
    "Mostrar que $\\alpha$ es raíz primitiva. \n",
    "\n",
    "Cuando sea $p = 163$ y $\\alpha = 3$"
   ]
  },
  {
   "cell_type": "code",
   "execution_count": 128,
   "metadata": {},
   "outputs": [
    {
     "name": "stdout",
     "output_type": "stream",
     "text": [
      "Arreglo de 0,162\n",
      "[0. 0. 0. 0. 0. 0. 0. 0. 0. 0. 0. 0. 0. 0. 0. 0. 0. 0. 0. 0. 0. 0. 0. 0.\n",
      " 0. 0. 0. 0. 0. 0. 0. 0. 0. 0. 0. 0. 0. 0. 0. 0. 0. 0. 0. 0. 0. 0. 0. 0.\n",
      " 0. 0. 0. 0. 0. 0. 0. 0. 0. 0. 0. 0. 0. 0. 0. 0. 0. 0. 0. 0. 0. 0. 0. 0.\n",
      " 0. 0. 0. 0. 0. 0. 0. 0. 0. 0. 0. 0. 0. 0. 0. 0. 0. 0. 0. 0. 0. 0. 0. 0.\n",
      " 0. 0. 0. 0. 0. 0. 0. 0. 0. 0. 0. 0. 0. 0. 0. 0. 0. 0. 0. 0. 0. 0. 0. 0.\n",
      " 0. 0. 0. 0. 0. 0. 0. 0. 0. 0. 0. 0. 0. 0. 0. 0. 0. 0. 0. 0. 0. 0. 0. 0.\n",
      " 0. 0. 0. 0. 0. 0. 0. 0. 0. 0. 0. 0. 0. 0. 0. 0. 0. 0. 0.]\n"
     ]
    },
    {
     "data": {
      "text/plain": [
       "array([0., 1., 1., 1., 1., 1., 1., 1., 1., 1., 1., 1., 1., 1., 1., 1., 1.,\n",
       "       1., 1., 1., 1., 1., 1., 1., 1., 1., 1., 1., 1., 1., 1., 1., 1., 1.,\n",
       "       1., 1., 1., 1., 1., 1., 1., 1., 1., 1., 1., 1., 1., 1., 1., 1., 1.,\n",
       "       1., 1., 1., 1., 1., 1., 1., 1., 1., 1., 1., 1., 1., 1., 1., 1., 1.,\n",
       "       1., 1., 1., 1., 1., 1., 1., 1., 1., 1., 1., 1., 1., 1., 1., 1., 1.,\n",
       "       1., 1., 1., 1., 1., 1., 1., 1., 1., 1., 1., 1., 1., 1., 1., 1., 1.,\n",
       "       1., 1., 1., 1., 1., 1., 1., 1., 1., 1., 1., 1., 1., 1., 1., 1., 1.,\n",
       "       1., 1., 1., 1., 1., 1., 1., 1., 1., 1., 1., 1., 1., 1., 1., 1., 1.,\n",
       "       1., 1., 1., 1., 1., 1., 1., 1., 1., 1., 1., 1., 1., 1., 1., 1., 1.,\n",
       "       1., 1., 1., 1., 1., 1., 1., 1., 1., 1.])"
      ]
     },
     "execution_count": 128,
     "metadata": {},
     "output_type": "execute_result"
    }
   ],
   "source": [
    "from numpy import * #andy\n",
    "#Se crea un arreglo que va del 0,162\n",
    "a = zeros(163)\n",
    "\n",
    "print(\"Arreglo de 0,162\")\n",
    "print(a)\n",
    "\n",
    "for i in range (1,163):\n",
    "    res = 3**i % 163\n",
    "    a[res] = 1\n",
    "    #print(\"Iteración \",i ,\"resultado\", res)\n",
    "a"
   ]
  },
  {
   "cell_type": "markdown",
   "metadata": {},
   "source": [
    "Con esto vemos que se obtenieron todos los enteros de [1,162] puesto que se lleno el arreglo con un uno a excepción de la posición $0$ lo cual verifica que $\\alpha$ es raíz primitiva"
   ]
  },
  {
   "cell_type": "markdown",
   "metadata": {},
   "source": [
    "b) De todas las raíces primitivas"
   ]
  },
  {
   "cell_type": "code",
   "execution_count": 129,
   "metadata": {},
   "outputs": [
    {
     "name": "stdout",
     "output_type": "stream",
     "text": [
      "3^ 1 mod 163 =  3\n",
      "3^ 2 mod 163 =  9\n",
      "3^ 3 mod 163 =  27\n",
      "3^ 4 mod 163 =  81\n",
      "3^ 5 mod 163 =  80\n",
      "3^ 6 mod 163 =  77\n",
      "3^ 7 mod 163 =  68\n",
      "3^ 8 mod 163 =  41\n",
      "3^ 9 mod 163 =  123\n",
      "3^ 10 mod 163 =  43\n",
      "3^ 11 mod 163 =  129\n",
      "3^ 12 mod 163 =  61\n",
      "3^ 13 mod 163 =  20\n",
      "3^ 14 mod 163 =  60\n",
      "3^ 15 mod 163 =  17\n",
      "3^ 16 mod 163 =  51\n",
      "3^ 17 mod 163 =  153\n",
      "3^ 18 mod 163 =  133\n",
      "3^ 19 mod 163 =  73\n",
      "3^ 20 mod 163 =  56\n",
      "3^ 21 mod 163 =  5\n",
      "3^ 22 mod 163 =  15\n",
      "3^ 23 mod 163 =  45\n",
      "3^ 24 mod 163 =  135\n",
      "3^ 25 mod 163 =  79\n",
      "3^ 26 mod 163 =  74\n",
      "3^ 27 mod 163 =  59\n",
      "3^ 28 mod 163 =  14\n",
      "3^ 29 mod 163 =  42\n",
      "3^ 30 mod 163 =  126\n",
      "3^ 31 mod 163 =  52\n",
      "3^ 32 mod 163 =  156\n",
      "3^ 33 mod 163 =  142\n",
      "3^ 34 mod 163 =  100\n",
      "3^ 35 mod 163 =  137\n",
      "3^ 36 mod 163 =  85\n",
      "3^ 37 mod 163 =  92\n",
      "3^ 38 mod 163 =  113\n",
      "3^ 39 mod 163 =  13\n",
      "3^ 40 mod 163 =  39\n",
      "3^ 41 mod 163 =  117\n",
      "3^ 42 mod 163 =  25\n",
      "3^ 43 mod 163 =  75\n",
      "3^ 44 mod 163 =  62\n",
      "3^ 45 mod 163 =  23\n",
      "3^ 46 mod 163 =  69\n",
      "3^ 47 mod 163 =  44\n",
      "3^ 48 mod 163 =  132\n",
      "3^ 49 mod 163 =  70\n",
      "3^ 50 mod 163 =  47\n",
      "3^ 51 mod 163 =  141\n",
      "3^ 52 mod 163 =  97\n",
      "3^ 53 mod 163 =  128\n",
      "3^ 54 mod 163 =  58\n",
      "3^ 55 mod 163 =  11\n",
      "3^ 56 mod 163 =  33\n",
      "3^ 57 mod 163 =  99\n",
      "3^ 58 mod 163 =  134\n",
      "3^ 59 mod 163 =  76\n",
      "3^ 60 mod 163 =  65\n",
      "3^ 61 mod 163 =  32\n",
      "3^ 62 mod 163 =  96\n",
      "3^ 63 mod 163 =  125\n",
      "3^ 64 mod 163 =  49\n",
      "3^ 65 mod 163 =  147\n",
      "3^ 66 mod 163 =  115\n",
      "3^ 67 mod 163 =  19\n",
      "3^ 68 mod 163 =  57\n",
      "3^ 69 mod 163 =  8\n",
      "3^ 70 mod 163 =  24\n",
      "3^ 71 mod 163 =  72\n",
      "3^ 72 mod 163 =  53\n",
      "3^ 73 mod 163 =  159\n",
      "3^ 74 mod 163 =  151\n",
      "3^ 75 mod 163 =  127\n",
      "3^ 76 mod 163 =  55\n",
      "3^ 77 mod 163 =  2\n",
      "3^ 78 mod 163 =  6\n",
      "3^ 79 mod 163 =  18\n",
      "3^ 80 mod 163 =  54\n",
      "3^ 81 mod 163 =  162\n",
      "3^ 82 mod 163 =  160\n",
      "3^ 83 mod 163 =  154\n",
      "3^ 84 mod 163 =  136\n",
      "3^ 85 mod 163 =  82\n",
      "3^ 86 mod 163 =  83\n",
      "3^ 87 mod 163 =  86\n",
      "3^ 88 mod 163 =  95\n",
      "3^ 89 mod 163 =  122\n",
      "3^ 90 mod 163 =  40\n",
      "3^ 91 mod 163 =  120\n",
      "3^ 92 mod 163 =  34\n",
      "3^ 93 mod 163 =  102\n",
      "3^ 94 mod 163 =  143\n",
      "3^ 95 mod 163 =  103\n",
      "3^ 96 mod 163 =  146\n",
      "3^ 97 mod 163 =  112\n",
      "3^ 98 mod 163 =  10\n",
      "3^ 99 mod 163 =  30\n",
      "3^ 100 mod 163 =  90\n",
      "3^ 101 mod 163 =  107\n",
      "3^ 102 mod 163 =  158\n",
      "3^ 103 mod 163 =  148\n",
      "3^ 104 mod 163 =  118\n",
      "3^ 105 mod 163 =  28\n",
      "3^ 106 mod 163 =  84\n",
      "3^ 107 mod 163 =  89\n",
      "3^ 108 mod 163 =  104\n",
      "3^ 109 mod 163 =  149\n",
      "3^ 110 mod 163 =  121\n",
      "3^ 111 mod 163 =  37\n",
      "3^ 112 mod 163 =  111\n",
      "3^ 113 mod 163 =  7\n",
      "3^ 114 mod 163 =  21\n",
      "3^ 115 mod 163 =  63\n",
      "3^ 116 mod 163 =  26\n",
      "3^ 117 mod 163 =  78\n",
      "3^ 118 mod 163 =  71\n",
      "3^ 119 mod 163 =  50\n",
      "3^ 120 mod 163 =  150\n",
      "3^ 121 mod 163 =  124\n",
      "3^ 122 mod 163 =  46\n",
      "3^ 123 mod 163 =  138\n",
      "3^ 124 mod 163 =  88\n",
      "3^ 125 mod 163 =  101\n",
      "3^ 126 mod 163 =  140\n",
      "3^ 127 mod 163 =  94\n",
      "3^ 128 mod 163 =  119\n",
      "3^ 129 mod 163 =  31\n",
      "3^ 130 mod 163 =  93\n",
      "3^ 131 mod 163 =  116\n",
      "3^ 132 mod 163 =  22\n",
      "3^ 133 mod 163 =  66\n",
      "3^ 134 mod 163 =  35\n",
      "3^ 135 mod 163 =  105\n",
      "3^ 136 mod 163 =  152\n",
      "3^ 137 mod 163 =  130\n",
      "3^ 138 mod 163 =  64\n",
      "3^ 139 mod 163 =  29\n",
      "3^ 140 mod 163 =  87\n",
      "3^ 141 mod 163 =  98\n",
      "3^ 142 mod 163 =  131\n",
      "3^ 143 mod 163 =  67\n",
      "3^ 144 mod 163 =  38\n",
      "3^ 145 mod 163 =  114\n",
      "3^ 146 mod 163 =  16\n",
      "3^ 147 mod 163 =  48\n",
      "3^ 148 mod 163 =  144\n",
      "3^ 149 mod 163 =  106\n",
      "3^ 150 mod 163 =  155\n",
      "3^ 151 mod 163 =  139\n",
      "3^ 152 mod 163 =  91\n",
      "3^ 153 mod 163 =  110\n",
      "3^ 154 mod 163 =  4\n",
      "3^ 155 mod 163 =  12\n",
      "3^ 156 mod 163 =  36\n",
      "3^ 157 mod 163 =  108\n",
      "3^ 158 mod 163 =  161\n",
      "3^ 159 mod 163 =  157\n",
      "3^ 160 mod 163 =  145\n",
      "3^ 161 mod 163 =  109\n",
      "3^ 162 mod 163 =  1\n"
     ]
    }
   ],
   "source": [
    "for i in range (1,163):#andy\n",
    "    res = 3**i % 163\n",
    "    print(\"3^\",i ,\"mod 163 = \", res)"
   ]
  },
  {
   "cell_type": "markdown",
   "metadata": {},
   "source": [
    "# Ejercicio 2\n",
    "## a)\n",
    "Mediante el algoritmo de paso grande paso chico encontrar el logaritmo de $19$ base $\\alpha = 3$ explicando detalladamente como se llega al resultado."
   ]
  },
  {
   "cell_type": "markdown",
   "metadata": {},
   "source": [
    "Es decir, hay que calcular $\\log_{3}(19)$ tenemos entonces, $\\beta = 19$ y por el ejercicio anterior que $Z^{*}_\n",
    "{163}$ el orden del grupo es $162$ y $m = \\lceil \\sqrt{162} \\rceil = 13$  entonces $0 \\leq j < 13$ lo cual nos dice que hay que calcular $3^j$ donde $j$ toma valores en el intervalo $[0,12]$, pero eso lo hicimos para el ejercicio anterior por lo que ocupamos la siguiente funcion:"
   ]
  },
  {
   "cell_type": "code",
   "execution_count": 7,
   "metadata": {},
   "outputs": [],
   "source": [
    "from numpy import *\n",
    "\n",
    "def cal(x):\n",
    "    a = zeros(x)\n",
    "    for i in range (0,x):\n",
    "        res = 3**i % 163\n",
    "        a[i]=res\n",
    "    return a"
   ]
  },
  {
   "cell_type": "code",
   "execution_count": 9,
   "metadata": {},
   "outputs": [
    {
     "data": {
      "text/plain": [
       "array([  1.,   3.,   9.,  27.,  81.,  80.,  77.,  68.,  41., 123.,  43.,\n",
       "       129.])"
      ]
     },
     "execution_count": 9,
     "metadata": {},
     "output_type": "execute_result"
    }
   ],
   "source": [
    "arr = cal(12)\n",
    "arr"
   ]
  },
  {
   "cell_type": "markdown",
   "metadata": {},
   "source": [
    "Calculamos entonces $\\alpha^{-1} = 3^{-1} \\text{ mod } 163 = 109$ este calculo fue a \"mano\", como son números pequeños el inverso lo calculamos de la siguiente manera, el modulo es $163$ y $163*2 = 326$ y por otro lado tenemos que $3*109 = 327$ lo que nos da $1$ en el modulo, por lo tanto $109$ es el inverso multiplicativo de $3$.\n",
    "\n",
    "Teniendo lo anterior tenemos que calcular $$\\alpha^{-1m} = \\alpha^{-m} = 109^{13} \\text{mod } 163$$"
   ]
  },
  {
   "cell_type": "code",
   "execution_count": 17,
   "metadata": {},
   "outputs": [
    {
     "data": {
      "text/plain": [
       "106"
      ]
     },
     "execution_count": 17,
     "metadata": {},
     "output_type": "execute_result"
    }
   ],
   "source": [
    "r1 = 109**13 % 163\n",
    "r1"
   ]
  },
  {
   "cell_type": "markdown",
   "metadata": {},
   "source": [
    "Entonces $\\alpha^{-1m} = \\alpha^{-m} = 109^{13} \\text{mod } 163 = 106$"
   ]
  },
  {
   "cell_type": "markdown",
   "metadata": {},
   "source": [
    "$$\\alpha = 3$$ y $$\\alpha^{-mi} = 106^i$$ y $$\\beta = 19$$\n",
    "Esto por propiedades de los exponentes. Con esto podemos usar la siguiente función para calcular el logaritmo requerido"
   ]
  },
  {
   "cell_type": "code",
   "execution_count": 24,
   "metadata": {},
   "outputs": [],
   "source": [
    "\"\"\" \n",
    "Función que genera hasta que beta por alfa a la m*i sea igual a alfa\n",
    "alfa: entero\n",
    "    es el número generador, dicho de otra manera, base del calculo del logaritmo\n",
    "beta: entero\n",
    "    Numero al calcular el logaritmo\n",
    "alfa_prima: entero\n",
    "    el número que se elevara al número de iteración.\n",
    "modulo: entero\n",
    "    modulo en el que se esta trabajando\n",
    "\"\"\"\n",
    "def generando(alfa,beta,alfa_prima, modulo):\n",
    "    i=-1\n",
    "    r=0\n",
    "    while(r!=alfa):\n",
    "        i=i+1\n",
    "        r = beta * (alfa_prima)**i % modulo  \n",
    "    return i"
   ]
  },
  {
   "cell_type": "code",
   "execution_count": 25,
   "metadata": {},
   "outputs": [
    {
     "data": {
      "text/plain": [
       "30"
      ]
     },
     "execution_count": 25,
     "metadata": {},
     "output_type": "execute_result"
    }
   ],
   "source": [
    "generando(3,19,106,163)"
   ]
  },
  {
   "cell_type": "markdown",
   "metadata": {},
   "source": [
    "Con la función *generando* con parametros $3,19,106,163$ obtenemos que en la iteración $30$ se obtuvo el generador lo cual significa lo siguiente: \n",
    "$$\\beta\\alpha^{-30m} = 3 = \\alpha^1$$\n",
    "De antemano sabemos que $m = 13$ entonces\n",
    "$$\\beta\\alpha^{-30*13} = 3 = \\alpha^1$$\n",
    "$$\\beta\\alpha^{-390} = \\alpha^1$$\n",
    "Por lo cual obtenemos que $$\\beta\\alpha^{-390} = \\alpha^1$$ entonces $$\\beta = \\alpha^{391}$$\n",
    "\n",
    "Entonces $\\log_{3} 19 = 391$"
   ]
  },
  {
   "cell_type": "markdown",
   "metadata": {},
   "source": [
    "Verificación de lo obtenido. "
   ]
  },
  {
   "cell_type": "code",
   "execution_count": 26,
   "metadata": {},
   "outputs": [
    {
     "data": {
      "text/plain": [
       "19"
      ]
     },
     "execution_count": 26,
     "metadata": {},
     "output_type": "execute_result"
    }
   ],
   "source": [
    "t = 3**391 % 163\n",
    "t"
   ]
  },
  {
   "cell_type": "markdown",
   "metadata": {},
   "source": [
    "## b)"
   ]
  },
  {
   "cell_type": "markdown",
   "metadata": {},
   "source": [
    "Con el algoritmo de Pohling Hellman calcular $\\log_{3}(19)$ desarrollando paso a paso \n"
   ]
  },
  {
   "cell_type": "markdown",
   "metadata": {},
   "source": [
    "Tenemos la siguiente información\n",
    "$Z^{*}_{163}$ \n",
    "$$ p = 163, n = 162, \\alpha = 3, \\beta = 19$$ \n",
    "Primero obtenemos la factorización de $n$ que es $$n = 162 = 2 * 3 * 3 * 3 * 3$$ y es única ahora calculamos \n",
    "\n",
    "$X_{i} \\equiv X \\text{mod } 2$ \n",
    "\n",
    "Paara $i=1$ calculamos entonces\n",
    "\n",
    "\\begin{align} \n",
    "\\alpha^{\\prime} & = \\alpha^{n/2} \\text{mod }p \\\\\n",
    "& = \\alpha^{162/2} \\text{mod } 163 \\\\\n",
    "& = (3)^{81} \\text{mod } 163 \\\\\n",
    "& = 162\n",
    "\\end{align}\n",
    "\n",
    "Además calculamos *beta* prima\n",
    "\n",
    "\\begin{align} \n",
    "\\beta^{\\prime} & = \\beta^{n/2} \\text{mod } 163\\\\\n",
    " & = 19^{81} \\text{mod } 163\\\\\n",
    " & = 162\\\\\n",
    "\\end{align}\n",
    "\n",
    "$X_1 = log_{162}(162) = 1$ Ya que el logaritmos de un número n en base n es igual a 1 entonces $X_{1} \\equiv 1 mod 2$ \n"
   ]
  },
  {
   "cell_type": "code",
   "execution_count": 37,
   "metadata": {
    "scrolled": true
   },
   "outputs": [
    {
     "data": {
      "text/plain": [
       "162"
      ]
     },
     "execution_count": 37,
     "metadata": {},
     "output_type": "execute_result"
    }
   ],
   "source": [
    "3**81 % 163"
   ]
  },
  {
   "cell_type": "code",
   "execution_count": 38,
   "metadata": {},
   "outputs": [
    {
     "data": {
      "text/plain": [
       "162"
      ]
     },
     "execution_count": 38,
     "metadata": {},
     "output_type": "execute_result"
    }
   ],
   "source": [
    "19**81 % 163"
   ]
  },
  {
   "cell_type": "markdown",
   "metadata": {},
   "source": [
    "$i=2$ entonces $X_2 = l_0 + l_1 * 3 + l_2 * 3^2 + l_3 * 3^3$\n",
    "\n",
    "\\begin{align} \n",
    "X_2 & = l_0 + l_1 * 3 + l_2 * 3^2 + l_3 * 3^3\\\\\n",
    "   & = l_0 + l_1 * 3 + l_2 * 9 + l_3 * 27\\\\\n",
    "\\end{align}\n",
    "\n",
    "donde $X_2 = X mod 3^4$\n",
    "\n",
    "ahora $q=3$ y $e=4$\n",
    "\n",
    "asignamos $\\gamma = 1$ y $l_{-1} = 0$ \n",
    "\n",
    "Calculamos\n",
    "\n",
    "\\begin{align} \n",
    "\\alpha^{\\prime} & = \\alpha^{162/3}  \\\\\n",
    "& = \\alpha^{54} \\text{mod } 163 \\\\\n",
    "& = 58\\\\\n",
    "\\end{align}$$\n",
    "\n",
    "Calculamos $l_j$ donde $j\\in \\{0,1,2,3\\}$\n",
    "\n",
    "$j=0$ calculamos \n",
    "\n",
    "\\begin{align} \n",
    "\\gamma & = 1*\\alpha^{(l_{j-1})*(q^{j-1})}\\\\\n",
    "       & = 1*\\alpha^{(0)(3^{-1})}\\\\\n",
    "       & = 1*\\alpha^0\\\\\n",
    "       & = 1(3) mod 163\\\\\n",
    "       & = 3\\\\\n",
    "\\end{align}\n",
    "\n",
    "Conociendo el valor de Gamma podemos calcular el valor de beta prima.\n",
    "\n",
    "\\begin{align} \n",
    "\\beta^{\\prime} & = (19(3)^{-1})^{n/q^{j+1}} mod 163\\\\\n",
    "        & = (19(3)^{-1})^{162/3^1} mod 163\\\\\n",
    "        & = (19*109)^{54} mod 163\\\\\n",
    "        & = 1\\\\\n",
    "\\end{align}\n",
    "\n",
    "El inverso de $3$ modulo $163$ ya lo habiamos calculado para el inciso a.\n",
    "\n",
    "$l_0 = log_3(1) = 162$ entonces $l_0 = 162$ ya que $3^{162}mod163 = 1$\n",
    "\n",
    "Ahora $j=1$ calculamos $\\gamma$\n",
    "\n",
    "\\begin{align}\n",
    "\\gamma & = 1\\alpha^{l_0*q^0}\\\\\n",
    "    & =1(\\alpha)^{(162)(3)^0}\\\\\n",
    "    & = 1(3)^{162}\\\\\n",
    "\\end{align}\n",
    "\n",
    "Teniendo el valor de $\\alpha$ podemos calcular $\\beta$\n",
    "\n",
    "\\begin{align}\n",
    "\\beta & = (\\beta\\gamma^{-1})^{n/q^{j+1}}\\\\\n",
    "    & = (19((3^{162})^{-1})^{18} mod 163\\\\\n",
    "\\end{align}\n",
    "\n",
    "\n"
   ]
  },
  {
   "cell_type": "code",
   "execution_count": 5,
   "metadata": {},
   "outputs": [
    {
     "data": {
      "text/plain": [
       "58"
      ]
     },
     "execution_count": 5,
     "metadata": {},
     "output_type": "execute_result"
    }
   ],
   "source": [
    "3**54 % 163"
   ]
  },
  {
   "cell_type": "code",
   "execution_count": 4,
   "metadata": {},
   "outputs": [
    {
     "data": {
      "text/plain": [
       "1"
      ]
     },
     "execution_count": 4,
     "metadata": {},
     "output_type": "execute_result"
    }
   ],
   "source": [
    "(19*109)**54 % 163\n"
   ]
  },
  {
   "cell_type": "markdown",
   "metadata": {},
   "source": [
    "Tendriamos que calcula el inverso de $3^{162}$ pero es un número demasiado grande además de que creemos que no calculamos bien los exponentes, consultamos el libro de Menezes pero no nos quedo claro esa parte del algoritmo, sin embargo, había que seguir calculando las $l_i$ hasta poder realizar la suma de cada una y así obteniamos otra ecuación de congruencias las que había que resolver, en este caso como son dos, había que usar sustitución y así obtener el logaritmo discreto. No es mucho, bueno si es bastante, no todo, pero es trabajo honesto. "
   ]
  },
  {
   "cell_type": "markdown",
   "metadata": {},
   "source": [
    "## Ejericicio 4"
   ]
  },
  {
   "cell_type": "markdown",
   "metadata": {},
   "source": [
    "Sea $n=23999$ tenemos que tomar una $a$ en el intervalo $[2,23997]$"
   ]
  },
  {
   "cell_type": "code",
   "execution_count": 130,
   "metadata": {},
   "outputs": [],
   "source": [
    "def simboloLegendre(mod,queda): #Andy\n",
    "    for i in range (1,23999):\n",
    "        res = i**2 % mod\n",
    "        if res == queda:\n",
    "            #print(\"Iteración \",i ,\"resultado\", res)\n",
    "            return 1\n",
    "    return -1\n",
    "    #Si devuelve 1, entonces simbolo de legendre es 1\n",
    "    #Si devuelve -1, entonces simbolo de legendre es 1"
   ]
  },
  {
   "cell_type": "code",
   "execution_count": 113,
   "metadata": {},
   "outputs": [],
   "source": [
    "def simboloJacobi():\n",
    "    for i in range (2,23997):\n",
    "        m103 = simboloLegendre(103,i)\n",
    "        m233 = simboloLegendre(233,i)\n",
    "        Jaco = m103 * m233\n",
    "        if Jaco == -1:\n",
    "            print(\"La a es:\",i)\n",
    "            break"
   ]
  },
  {
   "cell_type": "code",
   "execution_count": 114,
   "metadata": {},
   "outputs": [
    {
     "name": "stdout",
     "output_type": "stream",
     "text": [
      "La a es: 17\n"
     ]
    }
   ],
   "source": [
    "simboloJacobi()"
   ]
  },
  {
   "cell_type": "markdown",
   "metadata": {},
   "source": [
    "Calculamos $r$"
   ]
  },
  {
   "cell_type": "code",
   "execution_count": 122,
   "metadata": {},
   "outputs": [
    {
     "data": {
      "text/plain": [
       "17668"
      ]
     },
     "execution_count": 122,
     "metadata": {},
     "output_type": "execute_result"
    }
   ],
   "source": [
    "17**11999 % 23999"
   ]
  },
  {
   "cell_type": "markdown",
   "metadata": {},
   "source": [
    "Solo faltaria verificar que $r \\ncong s \\text{ mod } n$ donde  $r=17668, n = 23999$ y $s$ siendo el símbolo de Jacobi con $a=17$ y $s=-1$ entonces $17668 \\ncong -1 \\text{ mod } 23999$ por lo que $23999$ no es primo"
   ]
  },
  {
   "cell_type": "code",
   "execution_count": 119,
   "metadata": {},
   "outputs": [],
   "source": [
    "def func(mod,queda):\n",
    "    for i in range (1,23999):\n",
    "        res = i**2 % mod\n",
    "        if res == queda:\n",
    "            return 1\n",
    "    return -1"
   ]
  },
  {
   "cell_type": "code",
   "execution_count": 120,
   "metadata": {},
   "outputs": [
    {
     "data": {
      "text/plain": [
       "1"
      ]
     },
     "execution_count": 120,
     "metadata": {},
     "output_type": "execute_result"
    }
   ],
   "source": [
    "func(103,17)\n"
   ]
  },
  {
   "cell_type": "code",
   "execution_count": 121,
   "metadata": {},
   "outputs": [
    {
     "data": {
      "text/plain": [
       "-1"
      ]
     },
     "execution_count": 121,
     "metadata": {},
     "output_type": "execute_result"
    }
   ],
   "source": [
    "func(233,17)"
   ]
  },
  {
   "cell_type": "markdown",
   "metadata": {},
   "source": [
    "# Ejercicio 3 Descifrar el mesaje desde el criptosistema ElGammal"
   ]
  },
  {
   "cell_type": "markdown",
   "metadata": {},
   "source": [
    "G(163,3,19) entonces $p=163, \\alpha = 3, \\alpha ^a = 19$ y tenemos mensajes de tipo $(\\gamma,\\delta)$, para descifrar hay que calcular $\\gamma^{p-1-a}$ "
   ]
  },
  {
   "cell_type": "markdown",
   "metadata": {},
   "source": [
    "Calculando el valor de $a$ en la ecuación $3^a$ mod $163 = 19$ con fuerza bruta\n"
   ]
  },
  {
   "cell_type": "code",
   "execution_count": 4,
   "metadata": {},
   "outputs": [
    {
     "name": "stdout",
     "output_type": "stream",
     "text": [
      "Iteración  67 resultado 19\n"
     ]
    }
   ],
   "source": [
    "for i in range (1,163):\n",
    "    res = 3**i % 163\n",
    "    if res == 19:\n",
    "        print(\"Iteración \",i ,\"resultado\", res)"
   ]
  },
  {
   "cell_type": "markdown",
   "metadata": {},
   "source": [
    "Obteniendo así que el valor de $a = 67$"
   ]
  },
  {
   "cell_type": "markdown",
   "metadata": {},
   "source": [
    "Ahora que tenemos el valor de $a$ podemos descifrar cada uno de los mensajes, puesto que son de la forma: \n",
    "\n",
    "$$ M = \\gamma^{p-1-a} * \\delta \\text{ mod } p $$ y a continuación tenemos una función que lo hará, pues ya conocemos todos los valores para poder hacer el calculo."
   ]
  },
  {
   "cell_type": "markdown",
   "metadata": {},
   "source": [
    "## Función para calcular $r$ en una ecuación de la forma\n",
    "\n",
    " $$b^a mod p = r$$\n",
    "\n",
    "\n",
    "Es decir, que esta función nos sirve para descifrar en el sistema de ElGammal"
   ]
  },
  {
   "cell_type": "code",
   "execution_count": 6,
   "metadata": {},
   "outputs": [],
   "source": [
    "\"\"\"\n",
    "Función llamada mensajeXY que calcula el valor en número del mensaje codificado en ASCII del 65 al 90\n",
    "donde la ñ se toma como n \n",
    "\n",
    "El mensaje esta codificado y representado por una pareja ordenada de la forma (x,y)\n",
    "\n",
    "x: entero\n",
    "primer número de la codificación del mensaje\n",
    "\n",
    "y: entero\n",
    "segundo número de la codificación del mensaje\n",
    "\n",
    "p: entero\n",
    "número primo que se tiene como llave pública\n",
    "\n",
    "a: entero\n",
    "llave privada del intercambio de mensajes\n",
    "\n",
    "\"\"\"\n",
    "def mensajeXY(x,y,p,a):\n",
    "    m = x**(p-1-a) * y % p\n",
    "    return m\n"
   ]
  },
  {
   "cell_type": "markdown",
   "metadata": {},
   "source": [
    "Para el caso especial del ejercicio 3 de la tarea 2 tenemos la siguiente función.\n"
   ]
  },
  {
   "cell_type": "code",
   "execution_count": 27,
   "metadata": {},
   "outputs": [],
   "source": [
    "def mensajeXY3(x,y):\n",
    "    m = (x**(95)) * y  % 163\n",
    "    return m"
   ]
  },
  {
   "cell_type": "code",
   "execution_count": 31,
   "metadata": {},
   "outputs": [
    {
     "data": {
      "text/plain": [
       "69"
      ]
     },
     "execution_count": 31,
     "metadata": {},
     "output_type": "execute_result"
    }
   ],
   "source": [
    "mensajeXY3(7,27)"
   ]
  },
  {
   "cell_type": "code",
   "execution_count": 32,
   "metadata": {},
   "outputs": [
    {
     "data": {
      "text/plain": [
       "83"
      ]
     },
     "execution_count": 32,
     "metadata": {},
     "output_type": "execute_result"
    }
   ],
   "source": [
    "mensajeXY3(7,75)"
   ]
  },
  {
   "cell_type": "code",
   "execution_count": 33,
   "metadata": {},
   "outputs": [
    {
     "data": {
      "text/plain": [
       "84"
      ]
     },
     "execution_count": 33,
     "metadata": {},
     "output_type": "execute_result"
    }
   ],
   "source": [
    "mensajeXY3(7,125)"
   ]
  },
  {
   "cell_type": "code",
   "execution_count": 34,
   "metadata": {},
   "outputs": [
    {
     "data": {
      "text/plain": [
       "79"
      ]
     },
     "execution_count": 34,
     "metadata": {},
     "output_type": "execute_result"
    }
   ],
   "source": [
    "mensajeXY3(7,38)"
   ]
  },
  {
   "cell_type": "code",
   "execution_count": 35,
   "metadata": {},
   "outputs": [
    {
     "data": {
      "text/plain": [
       "69"
      ]
     },
     "execution_count": 35,
     "metadata": {},
     "output_type": "execute_result"
    }
   ],
   "source": [
    "mensajeXY3(5,108)"
   ]
  },
  {
   "cell_type": "code",
   "execution_count": 36,
   "metadata": {},
   "outputs": [
    {
     "data": {
      "text/plain": [
       "83"
      ]
     },
     "execution_count": 36,
     "metadata": {},
     "output_type": "execute_result"
    }
   ],
   "source": [
    "mensajeXY3(5,137)"
   ]
  },
  {
   "cell_type": "code",
   "execution_count": 37,
   "metadata": {},
   "outputs": [
    {
     "data": {
      "text/plain": [
       "85"
      ]
     },
     "execution_count": 37,
     "metadata": {},
     "output_type": "execute_result"
    }
   ],
   "source": [
    "mensajeXY3(7,12)"
   ]
  },
  {
   "cell_type": "code",
   "execution_count": 38,
   "metadata": {},
   "outputs": [
    {
     "data": {
      "text/plain": [
       "78"
      ]
     },
     "execution_count": 38,
     "metadata": {},
     "output_type": "execute_result"
    }
   ],
   "source": [
    "mensajeXY3(7,151)"
   ]
  },
  {
   "cell_type": "code",
   "execution_count": 39,
   "metadata": {},
   "outputs": [
    {
     "data": {
      "text/plain": [
       "65"
      ]
     },
     "execution_count": 39,
     "metadata": {},
     "output_type": "execute_result"
    }
   ],
   "source": [
    "mensajeXY3(7,153)"
   ]
  },
  {
   "cell_type": "code",
   "execution_count": 40,
   "metadata": {},
   "outputs": [
    {
     "data": {
      "text/plain": [
       "82"
      ]
     },
     "execution_count": 40,
     "metadata": {},
     "output_type": "execute_result"
    }
   ],
   "source": [
    "mensajeXY3(7,25)"
   ]
  },
  {
   "cell_type": "code",
   "execution_count": 41,
   "metadata": {},
   "outputs": [
    {
     "data": {
      "text/plain": [
       "69"
      ]
     },
     "execution_count": 41,
     "metadata": {},
     "output_type": "execute_result"
    }
   ],
   "source": [
    "mensajeXY3(11,80)"
   ]
  },
  {
   "cell_type": "code",
   "execution_count": 42,
   "metadata": {},
   "outputs": [
    {
     "data": {
      "text/plain": [
       "67"
      ]
     },
     "execution_count": 42,
     "metadata": {},
     "output_type": "execute_result"
    }
   ],
   "source": [
    "mensajeXY3(7,90)"
   ]
  },
  {
   "cell_type": "code",
   "execution_count": 43,
   "metadata": {},
   "outputs": [
    {
     "data": {
      "text/plain": [
       "79"
      ]
     },
     "execution_count": 43,
     "metadata": {},
     "output_type": "execute_result"
    }
   ],
   "source": [
    "mensajeXY3(5,152)"
   ]
  },
  {
   "cell_type": "code",
   "execution_count": 44,
   "metadata": {},
   "outputs": [
    {
     "data": {
      "text/plain": [
       "77"
      ]
     },
     "execution_count": 44,
     "metadata": {},
     "output_type": "execute_result"
    }
   ],
   "source": [
    "mensajeXY3(7,101)"
   ]
  },
  {
   "cell_type": "code",
   "execution_count": 45,
   "metadata": {},
   "outputs": [
    {
     "data": {
      "text/plain": [
       "80"
      ]
     },
     "execution_count": 45,
     "metadata": {},
     "output_type": "execute_result"
    }
   ],
   "source": [
    "mensajeXY3(7,88)"
   ]
  },
  {
   "cell_type": "code",
   "execution_count": 46,
   "metadata": {},
   "outputs": [
    {
     "data": {
      "text/plain": [
       "69"
      ]
     },
     "execution_count": 46,
     "metadata": {},
     "output_type": "execute_result"
    }
   ],
   "source": [
    "mensajeXY3(2,5)"
   ]
  },
  {
   "cell_type": "code",
   "execution_count": 47,
   "metadata": {},
   "outputs": [
    {
     "data": {
      "text/plain": [
       "78"
      ]
     },
     "execution_count": 47,
     "metadata": {},
     "output_type": "execute_result"
    }
   ],
   "source": [
    "mensajeXY3(5,115)"
   ]
  },
  {
   "cell_type": "code",
   "execution_count": 48,
   "metadata": {},
   "outputs": [
    {
     "data": {
      "text/plain": [
       "83"
      ]
     },
     "execution_count": 48,
     "metadata": {},
     "output_type": "execute_result"
    }
   ],
   "source": [
    "mensajeXY3(11,23)"
   ]
  },
  {
   "cell_type": "code",
   "execution_count": 49,
   "metadata": {},
   "outputs": [
    {
     "data": {
      "text/plain": [
       "65"
      ]
     },
     "execution_count": 49,
     "metadata": {},
     "output_type": "execute_result"
    }
   ],
   "source": [
    "mensajeXY3(5,123)"
   ]
  },
  {
   "cell_type": "markdown",
   "metadata": {},
   "source": [
    "Con la tabla de ASCII obtenemos el mensaje descifrado"
   ]
  },
  {
   "cell_type": "markdown",
   "metadata": {},
   "source": [
    "### El mensaje descifrado es: Esto es una recompensa"
   ]
  },
  {
   "cell_type": "markdown",
   "metadata": {},
   "source": [
    "# Ejercicio 6 "
   ]
  },
  {
   "cell_type": "markdown",
   "metadata": {},
   "source": [
    "Sea $n = 23999$ tenemos que es 11-homogenea ya que $2*3*5*7*11 = 2310$ ya que con el siguiente primo tendriamos que $2*3*5*7*11*13 \\geq 23999$ el algoritmo de Pollard rho-1 (Segun el Menezes) nos dice que si encontramos que $d = mcd(a,n) \\geq 2$ la salida del algoritmo es $d$ dado que en el ejercicio 4 donde obtuvimos la factorización de $n=23999 = 103 * 233$ sabemos que ya tenemos un numeró $a$ con el cual se cumple esta condición, calculada a continuación:  "
   ]
  },
  {
   "cell_type": "code",
   "execution_count": 124,
   "metadata": {},
   "outputs": [],
   "source": [
    "def mcd(a,b): #Andy\n",
    "    while(b>0):\n",
    "        divisor = a % b\n",
    "        a = b\n",
    "        b = divisor\n",
    "    return a"
   ]
  },
  {
   "cell_type": "markdown",
   "metadata": {},
   "source": [
    "Sea $a=103$ calculamos el mcd de $n = 23999$ y $ a = 103 $"
   ]
  },
  {
   "cell_type": "markdown",
   "metadata": {},
   "source": [
    "Para encontrar todas los factores bastaria iterar a en el intervalo $[2,23998]$ pero dado lo hecho en el ejercicio 4 sabemos que los números $103, 233$ son lo que cumplen la condición de que $d=mcd(a,n) \\geq 2$"
   ]
  },
  {
   "cell_type": "code",
   "execution_count": 125,
   "metadata": {},
   "outputs": [
    {
     "data": {
      "text/plain": [
       "103"
      ]
     },
     "execution_count": 125,
     "metadata": {},
     "output_type": "execute_result"
    }
   ],
   "source": [
    "mcd(103,23999)"
   ]
  },
  {
   "cell_type": "code",
   "execution_count": 126,
   "metadata": {},
   "outputs": [
    {
     "data": {
      "text/plain": [
       "233"
      ]
     },
     "execution_count": 126,
     "metadata": {},
     "output_type": "execute_result"
    }
   ],
   "source": [
    "mcd(233,23999)"
   ]
  },
  {
   "cell_type": "code",
   "execution_count": 127,
   "metadata": {},
   "outputs": [
    {
     "data": {
      "text/plain": [
       "23999"
      ]
     },
     "execution_count": 127,
     "metadata": {},
     "output_type": "execute_result"
    }
   ],
   "source": [
    "103*233"
   ]
  }
 ],
 "metadata": {
  "kernelspec": {
   "display_name": "Python 3",
   "language": "python",
   "name": "python3"
  },
  "language_info": {
   "codemirror_mode": {
    "name": "ipython",
    "version": 3
   },
   "file_extension": ".py",
   "mimetype": "text/x-python",
   "name": "python",
   "nbconvert_exporter": "python",
   "pygments_lexer": "ipython3",
   "version": "3.8.3"
  }
 },
 "nbformat": 4,
 "nbformat_minor": 4
}
